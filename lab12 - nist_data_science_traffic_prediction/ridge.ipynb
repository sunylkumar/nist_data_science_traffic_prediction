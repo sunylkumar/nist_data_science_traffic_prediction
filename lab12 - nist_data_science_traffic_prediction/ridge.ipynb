{
 "cells": [
  {
   "cell_type": "code",
   "execution_count": 39,
   "metadata": {
    "collapsed": true
   },
   "outputs": [],
   "source": [
    "import pandas as pd\n",
    "from sklearn import linear_model\n",
    "import numpy as np\n",
    "import math\n",
    "from scipy import stats\n",
    "from sklearn.metrics import r2_score"
   ]
  },
  {
   "cell_type": "code",
   "execution_count": 51,
   "metadata": {
    "collapsed": false
   },
   "outputs": [],
   "source": [
    "regr = linear_model.LinearRegression()"
   ]
  },
  {
   "cell_type": "code",
   "execution_count": 2,
   "metadata": {
    "collapsed": true
   },
   "outputs": [],
   "source": [
    "pred = pd.read_csv(\"prediction_trials.tsv\", sep=\"\\t\")"
   ]
  },
  {
   "cell_type": "code",
   "execution_count": 40,
   "metadata": {
    "collapsed": false
   },
   "outputs": [],
   "source": [
    "event = pd.read_csv(\"accidentsAndIncidents.csv\")\n",
    "eventsd=event.as_matrix()"
   ]
  },
  {
   "cell_type": "code",
   "execution_count": 42,
   "metadata": {
    "collapsed": false
   },
   "outputs": [
    {
     "data": {
      "text/plain": [
       "0"
      ]
     },
     "execution_count": 42,
     "metadata": {},
     "output_type": "execute_result"
    }
   ],
   "source": [
    "event[\"2014\"].min()"
   ]
  },
  {
   "cell_type": "code",
   "execution_count": 4,
   "metadata": {
    "collapsed": false
   },
   "outputs": [
    {
     "data": {
      "text/plain": [
       "array([[2003],\n",
       "       [2004],\n",
       "       [2005],\n",
       "       [2006],\n",
       "       [2007],\n",
       "       [2008],\n",
       "       [2009],\n",
       "       [2010],\n",
       "       [2011],\n",
       "       [2012],\n",
       "       [2013]])"
      ]
     },
     "execution_count": 4,
     "metadata": {},
     "output_type": "execute_result"
    }
   ],
   "source": [
    "x_train=np.array([2003,2004,2005,2006,2007,2008,2009,2010,2011,2012,2013]).reshape(-1, 1)\n",
    "\n",
    "x_test=np.array([2014]).reshape(-1, 1)\n",
    "x_train"
   ]
  },
  {
   "cell_type": "code",
   "execution_count": 5,
   "metadata": {
    "collapsed": false
   },
   "outputs": [],
   "source": [
    "pred_roadwork=[]\n",
    "re=[]"
   ]
  },
  {
   "cell_type": "code",
   "execution_count": 6,
   "metadata": {
    "collapsed": true
   },
   "outputs": [],
   "source": [
    "from sklearn.linear_model import Ridge"
   ]
  },
  {
   "cell_type": "code",
   "execution_count": 7,
   "metadata": {
    "collapsed": false
   },
   "outputs": [],
   "source": [
    "\n",
    "for i in range(len(pred)):\n",
    "    y_train=np.array(event.loc[i,['2003','2004','2005','2006','2007','2008','2009','2010','2011','2012','2013']])\n",
    "    if(np.count_nonzero(y_train) > 5):\n",
    "        clf = Ridge(alpha=15.0)\n",
    "    else:\n",
    "        clf = Ridge(alpha=30.0)\n",
    "    clf.fit(x_train, y_train)\n",
    "    y_test=np.array(event.loc[i,['2014']])\n",
    "    y=clf.predict(x_test)\n",
    "    if y<0:\n",
    "        y=0\n",
    "    re.append(y)\n",
    "    pred.set_value(i, 'dS2014', y)\n",
    "    pred_roadwork.append(((y - y_test) ** 2))\n",
    "    "
   ]
  },
  {
   "cell_type": "code",
   "execution_count": 8,
   "metadata": {
    "collapsed": false
   },
   "outputs": [
    {
     "data": {
      "text/plain": [
       "array([  932.82327273,   242.72976623,  1283.89620779, ...,   695.62285714,\n",
       "          99.94935065,   298.03246753])"
      ]
     },
     "execution_count": 8,
     "metadata": {},
     "output_type": "execute_result"
    }
   ],
   "source": [
    "np.correlate(re, event['2014'], \"full\")"
   ]
  },
  {
   "cell_type": "code",
   "execution_count": 14,
   "metadata": {
    "collapsed": false
   },
   "outputs": [
    {
     "data": {
      "text/plain": [
       "0     17.938909\n",
       "1      3.977922\n",
       "2     11.773091\n",
       "3     34.321455\n",
       "4     19.642857\n",
       "5      0.000000\n",
       "6     11.623377\n",
       "7      0.000000\n",
       "8     58.432000\n",
       "9      2.874026\n",
       "10     0.000000\n",
       "11    11.323377\n",
       "12     0.444156\n",
       "13     0.000000\n",
       "14     3.513455\n",
       "15    12.133818\n",
       "16     1.616883\n",
       "17     0.749351\n",
       "18    35.512987\n",
       "19    17.640727\n",
       "20     0.000000\n",
       "21     4.202597\n",
       "22    21.702545\n",
       "23     5.814286\n",
       "24    24.397818\n",
       "25     0.000000\n",
       "26     0.000000\n",
       "27     0.000000\n",
       "28     0.000000\n",
       "29    35.660364\n",
       "        ...    \n",
       "70    15.491636\n",
       "71     0.000000\n",
       "72     0.000000\n",
       "73     0.000000\n",
       "74    50.138909\n",
       "75    10.884416\n",
       "76     4.367273\n",
       "77     2.018182\n",
       "78     0.712000\n",
       "79    24.954182\n",
       "80     0.000000\n",
       "81     0.000000\n",
       "82    28.647273\n",
       "83     2.371429\n",
       "84     5.627636\n",
       "85     0.000000\n",
       "86    10.042909\n",
       "87    11.735273\n",
       "88     0.000000\n",
       "89     0.000000\n",
       "90     0.000000\n",
       "91     0.000000\n",
       "92    13.463273\n",
       "93     0.000000\n",
       "94    22.690182\n",
       "95     0.000000\n",
       "96     9.353247\n",
       "97     0.000000\n",
       "98     0.000000\n",
       "99    18.835065\n",
       "Name: dS2014, dtype: float64"
      ]
     },
     "execution_count": 14,
     "metadata": {},
     "output_type": "execute_result"
    }
   ],
   "source": [
    "pred['dS2014'].head(100)"
   ]
  },
  {
   "cell_type": "code",
   "execution_count": 15,
   "metadata": {
    "collapsed": false
   },
   "outputs": [
    {
     "data": {
      "text/plain": [
       "0     15\n",
       "1      4\n",
       "2     16\n",
       "3     47\n",
       "4     26\n",
       "5      0\n",
       "6      7\n",
       "7      0\n",
       "8     92\n",
       "9      3\n",
       "10     0\n",
       "11    16\n",
       "12     2\n",
       "13     0\n",
       "14     3\n",
       "15    22\n",
       "16     1\n",
       "17     1\n",
       "18    44\n",
       "19    28\n",
       "20     0\n",
       "21     1\n",
       "22    35\n",
       "23     5\n",
       "24    36\n",
       "25     0\n",
       "26     0\n",
       "27     0\n",
       "28     0\n",
       "29    29\n",
       "      ..\n",
       "70    11\n",
       "71     0\n",
       "72     0\n",
       "73     0\n",
       "74    51\n",
       "75     5\n",
       "76     8\n",
       "77     0\n",
       "78     1\n",
       "79    27\n",
       "80     0\n",
       "81     0\n",
       "82    53\n",
       "83     1\n",
       "84     6\n",
       "85     0\n",
       "86    26\n",
       "87    30\n",
       "88     0\n",
       "89     0\n",
       "90     0\n",
       "91     0\n",
       "92    15\n",
       "93     0\n",
       "94    34\n",
       "95     0\n",
       "96     2\n",
       "97     0\n",
       "98     0\n",
       "99     6\n",
       "Name: 2014, dtype: int64"
      ]
     },
     "execution_count": 15,
     "metadata": {},
     "output_type": "execute_result"
    }
   ],
   "source": []
  },
  {
   "cell_type": "code",
   "execution_count": 38,
   "metadata": {
    "collapsed": false
   },
   "outputs": [
    {
     "data": {
      "text/plain": [
       "<matplotlib.legend.Legend at 0x1fe50a58>"
      ]
     },
     "execution_count": 38,
     "metadata": {},
     "output_type": "execute_result"
    },
    {
     "data": {
      "image/png": "[encoded data removed]",
      "text/plain": [
       "<matplotlib.figure.Figure at 0x1f5e1e80>"
      ]
     },
     "metadata": {},
     "output_type": "display_data"
    }
   ],
   "source": [
    "import matplotlib.pyplot as plt\n",
    "import pylab\n",
    "%matplotlib inline\n",
    "fig, ax1 = plt.subplots()\n",
    "ax2 = ax1.twinx()\n",
    "x=range(100)\n",
    "ax1.plot(x, pred['dS2014'].head(100), 'g-')\n",
    "ax2.plot(x, event['2014'].head(100), 'p-')\n",
    "fig.suptitle('2014 actual vs predicted data', fontsize=20)\n",
    "ax1.set_ylabel(\"predicted\")\n",
    "ax2.set_ylabel(\"actual\")\n",
    "ax1.set_xlabel(\"trials\")\n",
    "plt.xlabel('trials', fontsize=18)\n",
    "#plt.ylabel('counts', fontsize=16)\n",
    "pylab.legend(['Predicted','actual'],loc='upper right')\n"
   ]
  },
  {
   "cell_type": "code",
   "execution_count": 46,
   "metadata": {
    "collapsed": false
   },
   "outputs": [],
   "source": [
    "x_train=np.array([2003,2004,2005,2006,2007,2008,2009,2010,2011,2012,2013]).reshape(-1, 1)\n",
    "\n",
    "x_test=np.array([2016]).reshape(-1, 1)\n"
   ]
  },
  {
   "cell_type": "code",
   "execution_count": 47,
   "metadata": {
    "collapsed": true
   },
   "outputs": [],
   "source": [
    "pred_roadwork=[]\n",
    "re=[]"
   ]
  },
  {
   "cell_type": "code",
   "execution_count": 48,
   "metadata": {
    "collapsed": true
   },
   "outputs": [],
   "source": [
    "predict = []\n",
    "\n",
    "for i in range(len(pred)):\n",
    "    \n",
    "    if(np.count_nonzero(y_train) > 5):\n",
    "        clf = Ridge(alpha=15.0)\n",
    "    else:\n",
    "        clf = Ridge(alpha=30.0)\n",
    "    \n",
    "    clf.fit(x_train, y_train)    \n",
    "    predict.append(clf.predict(xtest)[0])\n",
    "    "
   ]
  },
  {
   "cell_type": "code",
   "execution_count": 49,
   "metadata": {
    "collapsed": true
   },
   "outputs": [],
   "source": [
    "pred.to_csv(\"obstructionridge.csv\")"
   ]
  },
  {
   "cell_type": "code",
   "execution_count": null,
   "metadata": {
    "collapsed": true
   },
   "outputs": [],
   "source": []
  }
 ],
 "metadata": {
  "anaconda-cloud": {},
  "kernelspec": {
   "display_name": "Python 3",
   "language": "python",
   "name": "python3"
  },
  "language_info": {
   "codemirror_mode": {
    "name": "ipython",
    "version": 3
   },
   "file_extension": ".py",
   "mimetype": "text/x-python",
   "name": "python",
   "nbconvert_exporter": "python",
   "pygments_lexer": "ipython3",
   "version": "3.5.1"
  }
 },
 "nbformat": 4,
 "nbformat_minor": 0
}
