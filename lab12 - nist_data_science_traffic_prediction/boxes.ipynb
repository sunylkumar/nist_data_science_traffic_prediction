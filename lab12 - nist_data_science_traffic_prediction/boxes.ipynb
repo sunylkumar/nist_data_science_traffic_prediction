{
 "cells": [
  {
   "cell_type": "code",
   "execution_count": 121,
   "metadata": {
    "collapsed": true
   },
   "outputs": [],
   "source": [
    "import pandas as pd\n",
    "from datetime import timedelta\n",
    "import numpy as np\n",
    "import time\n",
    "import datetime\n",
    "from matplotlib import pyplot\n",
    "import warnings\n",
    "warnings.filterwarnings(\"ignore\")"
   ]
  },
  {
   "cell_type": "code",
   "execution_count": 122,
   "metadata": {
    "collapsed": false
   },
   "outputs": [],
   "source": [
    "trials = pd.read_csv('prediction_trials.tsv', header=0, sep='\\t')\n",
    "eventsDF = pd.read_csv(\"events_train.tsv\", sep=\"\\t\",header=0)"
   ]
  },
  {
   "cell_type": "code",
   "execution_count": null,
   "metadata": {
    "collapsed": true
   },
   "outputs": [],
   "source": [
    "eventsDF"
   ]
  },
  {
   "cell_type": "code",
   "execution_count": 10,
   "metadata": {
    "collapsed": true
   },
   "outputs": [],
   "source": [
    "tlist = []\n",
    "for i in range(len(trials)):\n",
    "    tlist.append(trials.loc[i])"
   ]
  },
  {
   "cell_type": "code",
   "execution_count": null,
   "metadata": {
    "collapsed": true
   },
   "outputs": [],
   "source": [
    "tlist[0]"
   ]
  },
  {
   "cell_type": "code",
   "execution_count": 152,
   "metadata": {
    "collapsed": false
   },
   "outputs": [],
   "source": [
    "events = eventsDF[['closed_tstamp','event_type','latitude','longitude']]\n",
    "events[\"year\"] = pd.to_numeric(events[\"closed_tstamp\"].str[:4], errors='coerce')"
   ]
  },
  {
   "cell_type": "code",
   "execution_count": 153,
   "metadata": {
    "collapsed": true
   },
   "outputs": [],
   "source": [
    "eventTypes = ['accidentsAndIncidents','roadwork', 'precipitation', 'deviceStatus', 'obstruction', 'trafficConditions']"
   ]
  },
  {
   "cell_type": "code",
   "execution_count": 154,
   "metadata": {
    "collapsed": true
   },
   "outputs": [],
   "source": [
    "trialEvents = pd.DataFrame(index=range(len(trials)))"
   ]
  },
  {
   "cell_type": "code",
   "execution_count": 155,
   "metadata": {
    "collapsed": false
   },
   "outputs": [],
   "source": [
    "mypoint = events[[ 'event_type', 'year', 'longitude', 'latitude']]\n",
    "mypoint = mypoint.as_matrix()"
   ]
  },
  {
   "cell_type": "code",
   "execution_count": 156,
   "metadata": {
    "collapsed": false
   },
   "outputs": [],
   "source": [
    "pts = mypoint[:, [2, 3]]"
   ]
  },
  {
   "cell_type": "code",
   "execution_count": 286,
   "metadata": {
    "collapsed": false
   },
   "outputs": [
    {
     "name": "stdout",
     "output_type": "stream",
     "text": [
      "--- 0.220999956131 seconds ---\n"
     ]
    }
   ],
   "source": [
    "start_time = time.time()\n",
    "\n",
    "ss = []\n",
    "\n",
    "for tin in range(2):\n",
    "    \n",
    "    edict = {}\n",
    "\n",
    "    x1, x2 = trials.loc[tin]['nw_lon'], trials.loc[tin]['se_lon']\n",
    "    y1, y2 = trials.loc[tin]['se_lat'], trials.loc[tin]['nw_lat']\n",
    "\n",
    "\n",
    "    ll = np.array([x1, y1])  # lower-left\n",
    "    ur = np.array([x2, y2])  # upper-right\n",
    "\n",
    "    inidx = np.all(np.logical_and(ll <= pts, pts <= ur), axis=1)\n",
    "    #inbox = pts[inidx]\n",
    "    pos = np.where(inidx==True)\n",
    "    \n",
    "    xx = pd.DataFrame(mypoint[pos]).groupby([0, 1]).count().reset_index()\n",
    "    for group in eventTypes:\n",
    "        yy = xx[xx[0] == group].drop([0,3],1)\n",
    "        z1 = xx[xx[0] == group].drop([0,3],1)[1].tolist()\n",
    "        z2 = xx[xx[0] == group].drop([0,3],1)[2].tolist()\n",
    "        edict[group] = [z1,z2]\n",
    "    \n",
    "    aa = pd.DataFrame.from_dict(edict, orient='index').as_matrix().tolist()\n",
    "    ss.append(aa)    \n",
    "    \n",
    "print(\"--- %s seconds ---\" % (time.time() - start_time))"
   ]
  },
  {
   "cell_type": "code",
   "execution_count": 287,
   "metadata": {
    "collapsed": false
   },
   "outputs": [
    {
     "data": {
      "text/plain": [
       "6"
      ]
     },
     "execution_count": 287,
     "metadata": {},
     "output_type": "execute_result"
    }
   ],
   "source": [
    "len(aa)"
   ]
  },
  {
   "cell_type": "code",
   "execution_count": 160,
   "metadata": {
    "collapsed": true
   },
   "outputs": [],
   "source": [
    "import pickle"
   ]
  },
  {
   "cell_type": "code",
   "execution_count": 161,
   "metadata": {
    "collapsed": true
   },
   "outputs": [],
   "source": [
    "pickle.dump(ss, fh)"
   ]
  },
  {
   "cell_type": "code",
   "execution_count": 162,
   "metadata": {
    "collapsed": true
   },
   "outputs": [],
   "source": [
    "fh = open('note.txt', 'r')"
   ]
  },
  {
   "cell_type": "code",
   "execution_count": 163,
   "metadata": {
    "collapsed": true
   },
   "outputs": [],
   "source": [
    "inss = pickle.load(fh)\n"
   ]
  },
  {
   "cell_type": "code",
   "execution_count": 265,
   "metadata": {
    "collapsed": false
   },
   "outputs": [
    {
     "data": {
      "text/plain": [
       "{'accidentsAndIncidents': [[2003.0,\n",
       "   2004.0,\n",
       "   2005.0,\n",
       "   2006.0,\n",
       "   2007.0,\n",
       "   2008.0,\n",
       "   2009.0,\n",
       "   2010.0,\n",
       "   2011.0,\n",
       "   2012.0,\n",
       "   2013.0,\n",
       "   2014.0],\n",
       "  [1, 18, 22, 31, 47, 40, 114, 161, 278, 513, 467, 279]],\n",
       " 'deviceStatus': [[2011.0, 2012.0, 2013.0, 2014.0], [3, 5, 7, 9]],\n",
       " 'obstruction': [[2005.0,\n",
       "   2007.0,\n",
       "   2008.0,\n",
       "   2009.0,\n",
       "   2010.0,\n",
       "   2011.0,\n",
       "   2012.0,\n",
       "   2013.0,\n",
       "   2014.0],\n",
       "  [1, 7, 3, 11, 6, 10, 17, 23, 15]],\n",
       " 'precipitation': [[2011.0], [1]],\n",
       " 'roadwork': [[2008.0, 2009.0, 2010.0, 2011.0, 2012.0, 2013.0, 2014.0, 2015.0],\n",
       "  [9, 3, 8, 9, 30, 27, 33, 1]],\n",
       " 'trafficConditions': [[2006.0, 2007.0, 2009.0], [1, 1, 3]]}"
      ]
     },
     "execution_count": 265,
     "metadata": {},
     "output_type": "execute_result"
    }
   ],
   "source": [
    "inss[0]"
   ]
  },
  {
   "cell_type": "code",
   "execution_count": 270,
   "metadata": {
    "collapsed": false
   },
   "outputs": [
    {
     "data": {
      "text/html": [
       "<div>\n",
       "<table border=\"1\" class=\"dataframe\">\n",
       "  <thead>\n",
       "    <tr style=\"text-align: right;\">\n",
       "      <th></th>\n",
       "      <th>0</th>\n",
       "      <th>1</th>\n",
       "    </tr>\n",
       "  </thead>\n",
       "  <tbody>\n",
       "    <tr>\n",
       "      <th>accidentsAndIncidents</th>\n",
       "      <td>[2003.0, 2004.0, 2005.0, 2006.0, 2007.0, 2008....</td>\n",
       "      <td>[1, 18, 22, 31, 47, 40, 114, 161, 278, 513, 46...</td>\n",
       "    </tr>\n",
       "    <tr>\n",
       "      <th>deviceStatus</th>\n",
       "      <td>[2011.0, 2012.0, 2013.0, 2014.0]</td>\n",
       "      <td>[3, 5, 7, 9]</td>\n",
       "    </tr>\n",
       "    <tr>\n",
       "      <th>obstruction</th>\n",
       "      <td>[2005.0, 2007.0, 2008.0, 2009.0, 2010.0, 2011....</td>\n",
       "      <td>[1, 7, 3, 11, 6, 10, 17, 23, 15]</td>\n",
       "    </tr>\n",
       "    <tr>\n",
       "      <th>trafficConditions</th>\n",
       "      <td>[2006.0, 2007.0, 2009.0]</td>\n",
       "      <td>[1, 1, 3]</td>\n",
       "    </tr>\n",
       "    <tr>\n",
       "      <th>roadwork</th>\n",
       "      <td>[2008.0, 2009.0, 2010.0, 2011.0, 2012.0, 2013....</td>\n",
       "      <td>[9, 3, 8, 9, 30, 27, 33, 1]</td>\n",
       "    </tr>\n",
       "    <tr>\n",
       "      <th>precipitation</th>\n",
       "      <td>[2011.0]</td>\n",
       "      <td>[1]</td>\n",
       "    </tr>\n",
       "  </tbody>\n",
       "</table>\n",
       "</div>"
      ],
      "text/plain": [
       "                                                                       0  \\\n",
       "accidentsAndIncidents  [2003.0, 2004.0, 2005.0, 2006.0, 2007.0, 2008....   \n",
       "deviceStatus                            [2011.0, 2012.0, 2013.0, 2014.0]   \n",
       "obstruction            [2005.0, 2007.0, 2008.0, 2009.0, 2010.0, 2011....   \n",
       "trafficConditions                               [2006.0, 2007.0, 2009.0]   \n",
       "roadwork               [2008.0, 2009.0, 2010.0, 2011.0, 2012.0, 2013....   \n",
       "precipitation                                                   [2011.0]   \n",
       "\n",
       "                                                                       1  \n",
       "accidentsAndIncidents  [1, 18, 22, 31, 47, 40, 114, 161, 278, 513, 46...  \n",
       "deviceStatus                                                [3, 5, 7, 9]  \n",
       "obstruction                             [1, 7, 3, 11, 6, 10, 17, 23, 15]  \n",
       "trafficConditions                                              [1, 1, 3]  \n",
       "roadwork                                     [9, 3, 8, 9, 30, 27, 33, 1]  \n",
       "precipitation                                                        [1]  "
      ]
     },
     "execution_count": 270,
     "metadata": {},
     "output_type": "execute_result"
    }
   ],
   "source": [
    "pd.DataFrame.from_dict(inss[0], orient='index')"
   ]
  },
  {
   "cell_type": "code",
   "execution_count": 262,
   "metadata": {
    "collapsed": false
   },
   "outputs": [],
   "source": [
    "aa = pd.DataFrame.from_dict(inss[0], orient='index').as_matrix()"
   ]
  },
  {
   "cell_type": "code",
   "execution_count": 263,
   "metadata": {
    "collapsed": false
   },
   "outputs": [
    {
     "data": {
      "text/plain": [
       "array([[ [2003.0, 2004.0, 2005.0, 2006.0, 2007.0, 2008.0, 2009.0, 2010.0, 2011.0, 2012.0, 2013.0, 2014.0],\n",
       "        [1, 18, 22, 31, 47, 40, 114, 161, 278, 513, 467, 279]],\n",
       "       [[2011.0, 2012.0, 2013.0, 2014.0], [3, 5, 7, 9]],\n",
       "       [[2005.0, 2007.0, 2008.0, 2009.0, 2010.0, 2011.0, 2012.0, 2013.0, 2014.0],\n",
       "        [1, 7, 3, 11, 6, 10, 17, 23, 15]],\n",
       "       [[2006.0, 2007.0, 2009.0], [1, 1, 3]],\n",
       "       [[2008.0, 2009.0, 2010.0, 2011.0, 2012.0, 2013.0, 2014.0, 2015.0],\n",
       "        [9, 3, 8, 9, 30, 27, 33, 1]],\n",
       "       [[2011.0], [1]]], dtype=object)"
      ]
     },
     "execution_count": 263,
     "metadata": {},
     "output_type": "execute_result"
    }
   ],
   "source": [
    "aa"
   ]
  },
  {
   "cell_type": "code",
   "execution_count": 245,
   "metadata": {
    "collapsed": false
   },
   "outputs": [
    {
     "name": "stdout",
     "output_type": "stream",
     "text": [
      "[[2003.0, 2004.0, 2005.0, 2006.0, 2007.0, 2008.0, 2009.0, 2010.0, 2011.0, 2012.0, 2013.0, 2014.0], [1, 18, 22, 31, 47, 40, 114, 161, 278, 513, 467, 279], [2011.0, 2012.0, 2013.0, 2014.0], [3, 5, 7, 9], [2005.0, 2007.0, 2008.0, 2009.0, 2010.0, 2011.0, 2012.0, 2013.0, 2014.0], [1, 7, 3, 11, 6, 10, 17, 23, 15], [2006.0, 2007.0, 2009.0], [1, 1, 3], [2008.0, 2009.0, 2010.0, 2011.0, 2012.0, 2013.0, 2014.0, 2015.0], [9, 3, 8, 9, 30, 27, 33, 1], [2011.0], [1]]\n"
     ]
    }
   ],
   "source": [
    "c = []\n",
    "for i in aa:\n",
    "    c.extend(i.tolist())\n",
    "print c"
   ]
  },
  {
   "cell_type": "code",
   "execution_count": 249,
   "metadata": {
    "collapsed": false
   },
   "outputs": [
    {
     "data": {
      "text/plain": [
       "[3, 5, 7, 9]"
      ]
     },
     "execution_count": 249,
     "metadata": {},
     "output_type": "execute_result"
    }
   ],
   "source": [
    "c[3]"
   ]
  },
  {
   "cell_type": "code",
   "execution_count": 232,
   "metadata": {
    "collapsed": false
   },
   "outputs": [
    {
     "data": {
      "text/html": [
       "<div>\n",
       "<table border=\"1\" class=\"dataframe\">\n",
       "  <thead>\n",
       "    <tr style=\"text-align: right;\">\n",
       "      <th></th>\n",
       "      <th>0</th>\n",
       "      <th>1</th>\n",
       "      <th>2</th>\n",
       "      <th>3</th>\n",
       "      <th>4</th>\n",
       "      <th>5</th>\n",
       "      <th>6</th>\n",
       "      <th>7</th>\n",
       "      <th>8</th>\n",
       "      <th>9</th>\n",
       "      <th>10</th>\n",
       "      <th>11</th>\n",
       "    </tr>\n",
       "  </thead>\n",
       "  <tbody>\n",
       "    <tr>\n",
       "      <th>0</th>\n",
       "      <td>2003.0</td>\n",
       "      <td>1.0</td>\n",
       "      <td>2011.0</td>\n",
       "      <td>3.0</td>\n",
       "      <td>2005.0</td>\n",
       "      <td>1.0</td>\n",
       "      <td>2006.0</td>\n",
       "      <td>1.0</td>\n",
       "      <td>2008.0</td>\n",
       "      <td>9.0</td>\n",
       "      <td>2011.0</td>\n",
       "      <td>1.0</td>\n",
       "    </tr>\n",
       "    <tr>\n",
       "      <th>1</th>\n",
       "      <td>2004.0</td>\n",
       "      <td>18.0</td>\n",
       "      <td>2012.0</td>\n",
       "      <td>5.0</td>\n",
       "      <td>2007.0</td>\n",
       "      <td>7.0</td>\n",
       "      <td>2007.0</td>\n",
       "      <td>1.0</td>\n",
       "      <td>2009.0</td>\n",
       "      <td>3.0</td>\n",
       "      <td>NaN</td>\n",
       "      <td>NaN</td>\n",
       "    </tr>\n",
       "    <tr>\n",
       "      <th>2</th>\n",
       "      <td>2005.0</td>\n",
       "      <td>22.0</td>\n",
       "      <td>2013.0</td>\n",
       "      <td>7.0</td>\n",
       "      <td>2008.0</td>\n",
       "      <td>3.0</td>\n",
       "      <td>2009.0</td>\n",
       "      <td>3.0</td>\n",
       "      <td>2010.0</td>\n",
       "      <td>8.0</td>\n",
       "      <td>NaN</td>\n",
       "      <td>NaN</td>\n",
       "    </tr>\n",
       "    <tr>\n",
       "      <th>3</th>\n",
       "      <td>2006.0</td>\n",
       "      <td>31.0</td>\n",
       "      <td>2014.0</td>\n",
       "      <td>9.0</td>\n",
       "      <td>2009.0</td>\n",
       "      <td>11.0</td>\n",
       "      <td>NaN</td>\n",
       "      <td>NaN</td>\n",
       "      <td>2011.0</td>\n",
       "      <td>9.0</td>\n",
       "      <td>NaN</td>\n",
       "      <td>NaN</td>\n",
       "    </tr>\n",
       "    <tr>\n",
       "      <th>4</th>\n",
       "      <td>2007.0</td>\n",
       "      <td>47.0</td>\n",
       "      <td>NaN</td>\n",
       "      <td>NaN</td>\n",
       "      <td>2010.0</td>\n",
       "      <td>6.0</td>\n",
       "      <td>NaN</td>\n",
       "      <td>NaN</td>\n",
       "      <td>2012.0</td>\n",
       "      <td>30.0</td>\n",
       "      <td>NaN</td>\n",
       "      <td>NaN</td>\n",
       "    </tr>\n",
       "    <tr>\n",
       "      <th>5</th>\n",
       "      <td>2008.0</td>\n",
       "      <td>40.0</td>\n",
       "      <td>NaN</td>\n",
       "      <td>NaN</td>\n",
       "      <td>2011.0</td>\n",
       "      <td>10.0</td>\n",
       "      <td>NaN</td>\n",
       "      <td>NaN</td>\n",
       "      <td>2013.0</td>\n",
       "      <td>27.0</td>\n",
       "      <td>NaN</td>\n",
       "      <td>NaN</td>\n",
       "    </tr>\n",
       "    <tr>\n",
       "      <th>6</th>\n",
       "      <td>2009.0</td>\n",
       "      <td>114.0</td>\n",
       "      <td>NaN</td>\n",
       "      <td>NaN</td>\n",
       "      <td>2012.0</td>\n",
       "      <td>17.0</td>\n",
       "      <td>NaN</td>\n",
       "      <td>NaN</td>\n",
       "      <td>2014.0</td>\n",
       "      <td>33.0</td>\n",
       "      <td>NaN</td>\n",
       "      <td>NaN</td>\n",
       "    </tr>\n",
       "    <tr>\n",
       "      <th>7</th>\n",
       "      <td>2010.0</td>\n",
       "      <td>161.0</td>\n",
       "      <td>NaN</td>\n",
       "      <td>NaN</td>\n",
       "      <td>2013.0</td>\n",
       "      <td>23.0</td>\n",
       "      <td>NaN</td>\n",
       "      <td>NaN</td>\n",
       "      <td>2015.0</td>\n",
       "      <td>1.0</td>\n",
       "      <td>NaN</td>\n",
       "      <td>NaN</td>\n",
       "    </tr>\n",
       "    <tr>\n",
       "      <th>8</th>\n",
       "      <td>2011.0</td>\n",
       "      <td>278.0</td>\n",
       "      <td>NaN</td>\n",
       "      <td>NaN</td>\n",
       "      <td>2014.0</td>\n",
       "      <td>15.0</td>\n",
       "      <td>NaN</td>\n",
       "      <td>NaN</td>\n",
       "      <td>NaN</td>\n",
       "      <td>NaN</td>\n",
       "      <td>NaN</td>\n",
       "      <td>NaN</td>\n",
       "    </tr>\n",
       "    <tr>\n",
       "      <th>9</th>\n",
       "      <td>2012.0</td>\n",
       "      <td>513.0</td>\n",
       "      <td>NaN</td>\n",
       "      <td>NaN</td>\n",
       "      <td>NaN</td>\n",
       "      <td>NaN</td>\n",
       "      <td>NaN</td>\n",
       "      <td>NaN</td>\n",
       "      <td>NaN</td>\n",
       "      <td>NaN</td>\n",
       "      <td>NaN</td>\n",
       "      <td>NaN</td>\n",
       "    </tr>\n",
       "    <tr>\n",
       "      <th>10</th>\n",
       "      <td>2013.0</td>\n",
       "      <td>467.0</td>\n",
       "      <td>NaN</td>\n",
       "      <td>NaN</td>\n",
       "      <td>NaN</td>\n",
       "      <td>NaN</td>\n",
       "      <td>NaN</td>\n",
       "      <td>NaN</td>\n",
       "      <td>NaN</td>\n",
       "      <td>NaN</td>\n",
       "      <td>NaN</td>\n",
       "      <td>NaN</td>\n",
       "    </tr>\n",
       "    <tr>\n",
       "      <th>11</th>\n",
       "      <td>2014.0</td>\n",
       "      <td>279.0</td>\n",
       "      <td>NaN</td>\n",
       "      <td>NaN</td>\n",
       "      <td>NaN</td>\n",
       "      <td>NaN</td>\n",
       "      <td>NaN</td>\n",
       "      <td>NaN</td>\n",
       "      <td>NaN</td>\n",
       "      <td>NaN</td>\n",
       "      <td>NaN</td>\n",
       "      <td>NaN</td>\n",
       "    </tr>\n",
       "  </tbody>\n",
       "</table>\n",
       "</div>"
      ],
      "text/plain": [
       "        0      1       2    3       4     5       6    7       8     9   \\\n",
       "0   2003.0    1.0  2011.0  3.0  2005.0   1.0  2006.0  1.0  2008.0   9.0   \n",
       "1   2004.0   18.0  2012.0  5.0  2007.0   7.0  2007.0  1.0  2009.0   3.0   \n",
       "2   2005.0   22.0  2013.0  7.0  2008.0   3.0  2009.0  3.0  2010.0   8.0   \n",
       "3   2006.0   31.0  2014.0  9.0  2009.0  11.0     NaN  NaN  2011.0   9.0   \n",
       "4   2007.0   47.0     NaN  NaN  2010.0   6.0     NaN  NaN  2012.0  30.0   \n",
       "5   2008.0   40.0     NaN  NaN  2011.0  10.0     NaN  NaN  2013.0  27.0   \n",
       "6   2009.0  114.0     NaN  NaN  2012.0  17.0     NaN  NaN  2014.0  33.0   \n",
       "7   2010.0  161.0     NaN  NaN  2013.0  23.0     NaN  NaN  2015.0   1.0   \n",
       "8   2011.0  278.0     NaN  NaN  2014.0  15.0     NaN  NaN     NaN   NaN   \n",
       "9   2012.0  513.0     NaN  NaN     NaN   NaN     NaN  NaN     NaN   NaN   \n",
       "10  2013.0  467.0     NaN  NaN     NaN   NaN     NaN  NaN     NaN   NaN   \n",
       "11  2014.0  279.0     NaN  NaN     NaN   NaN     NaN  NaN     NaN   NaN   \n",
       "\n",
       "        10   11  \n",
       "0   2011.0  1.0  \n",
       "1      NaN  NaN  \n",
       "2      NaN  NaN  \n",
       "3      NaN  NaN  \n",
       "4      NaN  NaN  \n",
       "5      NaN  NaN  \n",
       "6      NaN  NaN  \n",
       "7      NaN  NaN  \n",
       "8      NaN  NaN  \n",
       "9      NaN  NaN  \n",
       "10     NaN  NaN  \n",
       "11     NaN  NaN  "
      ]
     },
     "execution_count": 232,
     "metadata": {},
     "output_type": "execute_result"
    }
   ],
   "source": [
    "pd.DataFrame.transpose(pd.DataFrame(aa.flatten().tolist()))"
   ]
  },
  {
   "cell_type": "code",
   "execution_count": 240,
   "metadata": {
    "collapsed": false
   },
   "outputs": [
    {
     "name": "stdout",
     "output_type": "stream",
     "text": [
      "[[2003.0, 2004.0, 2005.0, 2006.0, 2007.0, 2008.0, 2009.0, 2010.0, 2011.0, 2012.0, 2013.0, 2014.0], [1, 18, 22, 31, 47, 40, 114, 161, 278, 513, 467, 279], [2011.0, 2012.0, 2013.0, 2014.0], [3, 5, 7, 9], [2005.0, 2007.0, 2008.0, 2009.0, 2010.0, 2011.0, 2012.0, 2013.0, 2014.0], [1, 7, 3, 11, 6, 10, 17, 23, 15], [2006.0, 2007.0, 2009.0], [1, 1, 3], [2008.0, 2009.0, 2010.0, 2011.0, 2012.0, 2013.0, 2014.0, 2015.0], [9, 3, 8, 9, 30, 27, 33, 1], [2011.0], [1]]\n"
     ]
    }
   ],
   "source": [
    "c = []\n",
    "for i in aa:\n",
    "    c.extend(i.tolist())\n",
    "print c"
   ]
  },
  {
   "cell_type": "code",
   "execution_count": 243,
   "metadata": {
    "collapsed": false
   },
   "outputs": [
    {
     "data": {
      "text/plain": [
       "12"
      ]
     },
     "execution_count": 243,
     "metadata": {},
     "output_type": "execute_result"
    }
   ],
   "source": [
    "len(c)"
   ]
  },
  {
   "cell_type": "code",
   "execution_count": null,
   "metadata": {
    "collapsed": true
   },
   "outputs": [],
   "source": []
  },
  {
   "cell_type": "code",
   "execution_count": null,
   "metadata": {
    "collapsed": true
   },
   "outputs": [],
   "source": []
  },
  {
   "cell_type": "code",
   "execution_count": 88,
   "metadata": {
    "collapsed": false
   },
   "outputs": [
    {
     "ename": "TypeError",
     "evalue": "data type \"<i11\" not understood",
     "output_type": "error",
     "traceback": [
      "\u001b[0;31m---------------------------------------------------------------------------\u001b[0m",
      "\u001b[0;31mTypeError\u001b[0m                                 Traceback (most recent call last)",
      "\u001b[0;32m<ipython-input-88-ef53e4e8f854>\u001b[0m in \u001b[0;36m<module>\u001b[0;34m()\u001b[0m\n\u001b[0;32m----> 1\u001b[0;31m \u001b[0mnp\u001b[0m\u001b[1;33m.\u001b[0m\u001b[0marray\u001b[0m\u001b[1;33m(\u001b[0m\u001b[0mpd\u001b[0m\u001b[1;33m.\u001b[0m\u001b[0mDataFrame\u001b[0m\u001b[1;33m.\u001b[0m\u001b[0mfrom_dict\u001b[0m\u001b[1;33m(\u001b[0m\u001b[0minss\u001b[0m\u001b[1;33m[\u001b[0m\u001b[1;36m0\u001b[0m\u001b[1;33m]\u001b[0m\u001b[1;33m,\u001b[0m \u001b[0morient\u001b[0m\u001b[1;33m=\u001b[0m\u001b[1;34m'index'\u001b[0m\u001b[1;33m)\u001b[0m\u001b[1;33m[\u001b[0m\u001b[1;33m:\u001b[0m\u001b[1;36m1\u001b[0m\u001b[1;33m]\u001b[0m\u001b[1;33m,\u001b[0m \u001b[0mdtype\u001b[0m\u001b[1;33m=\u001b[0m\u001b[1;33m[\u001b[0m\u001b[1;33m(\u001b[0m\u001b[1;34m'f0'\u001b[0m\u001b[1;33m,\u001b[0m \u001b[1;34m'<i11'\u001b[0m\u001b[1;33m)\u001b[0m\u001b[1;33m]\u001b[0m\u001b[1;33m)\u001b[0m\u001b[1;33m\u001b[0m\u001b[0m\n\u001b[0m",
      "\u001b[0;31mTypeError\u001b[0m: data type \"<i11\" not understood"
     ]
    }
   ],
   "source": [
    "np.array(pd.DataFrame.from_dict(inss[0], orient='index')[])"
   ]
  },
  {
   "cell_type": "code",
   "execution_count": 179,
   "metadata": {
    "collapsed": false
   },
   "outputs": [
    {
     "data": {
      "text/plain": [
       "{'accidentsAndIncidents': [[2004.0,\n",
       "   2005.0,\n",
       "   2006.0,\n",
       "   2007.0,\n",
       "   2009.0,\n",
       "   2010.0,\n",
       "   2011.0,\n",
       "   2012.0,\n",
       "   2013.0,\n",
       "   2014.0],\n",
       "  [2, 3, 2, 2, 13, 10, 9, 11, 10, 12]],\n",
       " 'deviceStatus': [[2013.0, 2014.0], [5, 3]],\n",
       " 'obstruction': [[2011.0, 2012.0, 2013.0, 2014.0], [4, 6, 5, 4]],\n",
       " 'precipitation': [[], []],\n",
       " 'roadwork': [[2010.0, 2011.0, 2012.0, 2013.0, 2014.0], [1, 7, 2, 4, 21]],\n",
       " 'trafficConditions': [[], []]}"
      ]
     },
     "execution_count": 179,
     "metadata": {},
     "output_type": "execute_result"
    }
   ],
   "source": [
    "inss[1]"
   ]
  },
  {
   "cell_type": "code",
   "execution_count": 30,
   "metadata": {
    "collapsed": false
   },
   "outputs": [
    {
     "data": {
      "text/plain": [
       "dict"
      ]
     },
     "execution_count": 30,
     "metadata": {},
     "output_type": "execute_result"
    }
   ],
   "source": [
    "type(inss[0])"
   ]
  },
  {
   "cell_type": "code",
   "execution_count": 37,
   "metadata": {
    "collapsed": false
   },
   "outputs": [
    {
     "data": {
      "text/plain": [
       "array([['trafficConditions', '2003', -76.7720078, 38.943014],\n",
       "       ['accidentsAndIncidents', '2003', -76.7634218, 38.94520429999999],\n",
       "       ['accidentsAndIncidents', '2004', -76.7695091, 38.9448492],\n",
       "       ..., \n",
       "       ['accidentsAndIncidents', '2014', -76.770179, 38.94529],\n",
       "       ['accidentsAndIncidents', '2014', -76.770179, 38.94529],\n",
       "       ['obstruction', '2014', -76.770179, 38.94529]], dtype=object)"
      ]
     },
     "execution_count": 37,
     "metadata": {},
     "output_type": "execute_result"
    }
   ],
   "source": [
    "mypoint[pos]"
   ]
  },
  {
   "cell_type": "code",
   "execution_count": 36,
   "metadata": {
    "collapsed": false
   },
   "outputs": [
    {
     "data": {
      "text/html": [
       "<div>\n",
       "<table border=\"1\" class=\"dataframe\">\n",
       "  <thead>\n",
       "    <tr style=\"text-align: right;\">\n",
       "      <th></th>\n",
       "      <th>0</th>\n",
       "      <th>1</th>\n",
       "      <th>2</th>\n",
       "      <th>3</th>\n",
       "    </tr>\n",
       "  </thead>\n",
       "  <tbody>\n",
       "    <tr>\n",
       "      <th>28</th>\n",
       "      <td>trafficConditions</td>\n",
       "      <td>2003</td>\n",
       "      <td>1</td>\n",
       "      <td>1</td>\n",
       "    </tr>\n",
       "    <tr>\n",
       "      <th>29</th>\n",
       "      <td>trafficConditions</td>\n",
       "      <td>2009</td>\n",
       "      <td>1</td>\n",
       "      <td>1</td>\n",
       "    </tr>\n",
       "  </tbody>\n",
       "</table>\n",
       "</div>"
      ],
      "text/plain": [
       "                    0     1  2  3\n",
       "28  trafficConditions  2003  1  1\n",
       "29  trafficConditions  2009  1  1"
      ]
     },
     "execution_count": 36,
     "metadata": {},
     "output_type": "execute_result"
    }
   ],
   "source": [
    "xx = pd.DataFrame(mypoint[pos]).groupby([0, 1]).count().reset_index()\n",
    "xx[xx[0] == group]"
   ]
  },
  {
   "cell_type": "code",
   "execution_count": 47,
   "metadata": {
    "collapsed": false
   },
   "outputs": [
    {
     "name": "stdout",
     "output_type": "stream",
     "text": [
      "trafficConditions [Pandas(_0='2003', _1=1), Pandas(_0='2009', _1=1)]\n"
     ]
    }
   ],
   "source": [
    "xx = pd.DataFrame(mypoint[pos]).groupby([0, 1]).count().reset_index()\n",
    "#for group in eventTypes:\n",
    "yy = xx[xx[0] == group].drop([0,3],1)\n",
    "zz = list(yy.itertuples(index=False))\n",
    "print group, zz"
   ]
  },
  {
   "cell_type": "code",
   "execution_count": 11,
   "metadata": {
    "collapsed": false
   },
   "outputs": [
    {
     "data": {
      "text/html": [
       "<div>\n",
       "<table border=\"1\" class=\"dataframe\">\n",
       "  <thead>\n",
       "    <tr style=\"text-align: right;\">\n",
       "      <th></th>\n",
       "      <th>2</th>\n",
       "      <th>3</th>\n",
       "      <th>0</th>\n",
       "      <th>1</th>\n",
       "    </tr>\n",
       "  </thead>\n",
       "  <tbody>\n",
       "    <tr>\n",
       "      <th>0</th>\n",
       "      <td>accidentsAndIncidents</td>\n",
       "      <td>2003</td>\n",
       "      <td>1</td>\n",
       "      <td>1</td>\n",
       "    </tr>\n",
       "    <tr>\n",
       "      <th>1</th>\n",
       "      <td>accidentsAndIncidents</td>\n",
       "      <td>2004</td>\n",
       "      <td>4</td>\n",
       "      <td>4</td>\n",
       "    </tr>\n",
       "    <tr>\n",
       "      <th>2</th>\n",
       "      <td>accidentsAndIncidents</td>\n",
       "      <td>2005</td>\n",
       "      <td>5</td>\n",
       "      <td>5</td>\n",
       "    </tr>\n",
       "    <tr>\n",
       "      <th>3</th>\n",
       "      <td>accidentsAndIncidents</td>\n",
       "      <td>2006</td>\n",
       "      <td>1</td>\n",
       "      <td>1</td>\n",
       "    </tr>\n",
       "    <tr>\n",
       "      <th>4</th>\n",
       "      <td>accidentsAndIncidents</td>\n",
       "      <td>2007</td>\n",
       "      <td>3</td>\n",
       "      <td>3</td>\n",
       "    </tr>\n",
       "    <tr>\n",
       "      <th>5</th>\n",
       "      <td>accidentsAndIncidents</td>\n",
       "      <td>2008</td>\n",
       "      <td>40</td>\n",
       "      <td>40</td>\n",
       "    </tr>\n",
       "    <tr>\n",
       "      <th>6</th>\n",
       "      <td>accidentsAndIncidents</td>\n",
       "      <td>2009</td>\n",
       "      <td>83</td>\n",
       "      <td>83</td>\n",
       "    </tr>\n",
       "    <tr>\n",
       "      <th>7</th>\n",
       "      <td>accidentsAndIncidents</td>\n",
       "      <td>2010</td>\n",
       "      <td>145</td>\n",
       "      <td>145</td>\n",
       "    </tr>\n",
       "    <tr>\n",
       "      <th>8</th>\n",
       "      <td>accidentsAndIncidents</td>\n",
       "      <td>2011</td>\n",
       "      <td>149</td>\n",
       "      <td>149</td>\n",
       "    </tr>\n",
       "    <tr>\n",
       "      <th>9</th>\n",
       "      <td>accidentsAndIncidents</td>\n",
       "      <td>2012</td>\n",
       "      <td>119</td>\n",
       "      <td>119</td>\n",
       "    </tr>\n",
       "    <tr>\n",
       "      <th>10</th>\n",
       "      <td>accidentsAndIncidents</td>\n",
       "      <td>2013</td>\n",
       "      <td>102</td>\n",
       "      <td>102</td>\n",
       "    </tr>\n",
       "    <tr>\n",
       "      <th>11</th>\n",
       "      <td>accidentsAndIncidents</td>\n",
       "      <td>2014</td>\n",
       "      <td>230</td>\n",
       "      <td>230</td>\n",
       "    </tr>\n",
       "    <tr>\n",
       "      <th>12</th>\n",
       "      <td>disasters</td>\n",
       "      <td>2012</td>\n",
       "      <td>1</td>\n",
       "      <td>1</td>\n",
       "    </tr>\n",
       "    <tr>\n",
       "      <th>13</th>\n",
       "      <td>obstruction</td>\n",
       "      <td>2006</td>\n",
       "      <td>1</td>\n",
       "      <td>1</td>\n",
       "    </tr>\n",
       "    <tr>\n",
       "      <th>14</th>\n",
       "      <td>obstruction</td>\n",
       "      <td>2008</td>\n",
       "      <td>4</td>\n",
       "      <td>4</td>\n",
       "    </tr>\n",
       "    <tr>\n",
       "      <th>15</th>\n",
       "      <td>obstruction</td>\n",
       "      <td>2009</td>\n",
       "      <td>7</td>\n",
       "      <td>7</td>\n",
       "    </tr>\n",
       "    <tr>\n",
       "      <th>16</th>\n",
       "      <td>obstruction</td>\n",
       "      <td>2010</td>\n",
       "      <td>9</td>\n",
       "      <td>9</td>\n",
       "    </tr>\n",
       "    <tr>\n",
       "      <th>17</th>\n",
       "      <td>obstruction</td>\n",
       "      <td>2011</td>\n",
       "      <td>19</td>\n",
       "      <td>19</td>\n",
       "    </tr>\n",
       "    <tr>\n",
       "      <th>18</th>\n",
       "      <td>obstruction</td>\n",
       "      <td>2012</td>\n",
       "      <td>7</td>\n",
       "      <td>7</td>\n",
       "    </tr>\n",
       "    <tr>\n",
       "      <th>19</th>\n",
       "      <td>obstruction</td>\n",
       "      <td>2013</td>\n",
       "      <td>7</td>\n",
       "      <td>7</td>\n",
       "    </tr>\n",
       "    <tr>\n",
       "      <th>20</th>\n",
       "      <td>obstruction</td>\n",
       "      <td>2014</td>\n",
       "      <td>16</td>\n",
       "      <td>16</td>\n",
       "    </tr>\n",
       "    <tr>\n",
       "      <th>21</th>\n",
       "      <td>roadwork</td>\n",
       "      <td>2008</td>\n",
       "      <td>1</td>\n",
       "      <td>1</td>\n",
       "    </tr>\n",
       "    <tr>\n",
       "      <th>22</th>\n",
       "      <td>roadwork</td>\n",
       "      <td>2009</td>\n",
       "      <td>4</td>\n",
       "      <td>4</td>\n",
       "    </tr>\n",
       "    <tr>\n",
       "      <th>23</th>\n",
       "      <td>roadwork</td>\n",
       "      <td>2010</td>\n",
       "      <td>32</td>\n",
       "      <td>32</td>\n",
       "    </tr>\n",
       "    <tr>\n",
       "      <th>24</th>\n",
       "      <td>roadwork</td>\n",
       "      <td>2011</td>\n",
       "      <td>1</td>\n",
       "      <td>1</td>\n",
       "    </tr>\n",
       "    <tr>\n",
       "      <th>25</th>\n",
       "      <td>roadwork</td>\n",
       "      <td>2012</td>\n",
       "      <td>8</td>\n",
       "      <td>8</td>\n",
       "    </tr>\n",
       "    <tr>\n",
       "      <th>26</th>\n",
       "      <td>roadwork</td>\n",
       "      <td>2013</td>\n",
       "      <td>2</td>\n",
       "      <td>2</td>\n",
       "    </tr>\n",
       "    <tr>\n",
       "      <th>27</th>\n",
       "      <td>roadwork</td>\n",
       "      <td>2014</td>\n",
       "      <td>13</td>\n",
       "      <td>13</td>\n",
       "    </tr>\n",
       "    <tr>\n",
       "      <th>28</th>\n",
       "      <td>trafficConditions</td>\n",
       "      <td>2003</td>\n",
       "      <td>1</td>\n",
       "      <td>1</td>\n",
       "    </tr>\n",
       "    <tr>\n",
       "      <th>29</th>\n",
       "      <td>trafficConditions</td>\n",
       "      <td>2009</td>\n",
       "      <td>1</td>\n",
       "      <td>1</td>\n",
       "    </tr>\n",
       "    <tr>\n",
       "      <th>30</th>\n",
       "      <td>warningAdvice</td>\n",
       "      <td>2011</td>\n",
       "      <td>1</td>\n",
       "      <td>1</td>\n",
       "    </tr>\n",
       "  </tbody>\n",
       "</table>\n",
       "</div>"
      ],
      "text/plain": [
       "                        2     3    0    1\n",
       "0   accidentsAndIncidents  2003    1    1\n",
       "1   accidentsAndIncidents  2004    4    4\n",
       "2   accidentsAndIncidents  2005    5    5\n",
       "3   accidentsAndIncidents  2006    1    1\n",
       "4   accidentsAndIncidents  2007    3    3\n",
       "5   accidentsAndIncidents  2008   40   40\n",
       "6   accidentsAndIncidents  2009   83   83\n",
       "7   accidentsAndIncidents  2010  145  145\n",
       "8   accidentsAndIncidents  2011  149  149\n",
       "9   accidentsAndIncidents  2012  119  119\n",
       "10  accidentsAndIncidents  2013  102  102\n",
       "11  accidentsAndIncidents  2014  230  230\n",
       "12              disasters  2012    1    1\n",
       "13            obstruction  2006    1    1\n",
       "14            obstruction  2008    4    4\n",
       "15            obstruction  2009    7    7\n",
       "16            obstruction  2010    9    9\n",
       "17            obstruction  2011   19   19\n",
       "18            obstruction  2012    7    7\n",
       "19            obstruction  2013    7    7\n",
       "20            obstruction  2014   16   16\n",
       "21               roadwork  2008    1    1\n",
       "22               roadwork  2009    4    4\n",
       "23               roadwork  2010   32   32\n",
       "24               roadwork  2011    1    1\n",
       "25               roadwork  2012    8    8\n",
       "26               roadwork  2013    2    2\n",
       "27               roadwork  2014   13   13\n",
       "28      trafficConditions  2003    1    1\n",
       "29      trafficConditions  2009    1    1\n",
       "30          warningAdvice  2011    1    1"
      ]
     },
     "execution_count": 11,
     "metadata": {},
     "output_type": "execute_result"
    }
   ],
   "source": [
    "xx"
   ]
  },
  {
   "cell_type": "code",
   "execution_count": 15,
   "metadata": {
    "collapsed": false
   },
   "outputs": [
    {
     "data": {
      "text/html": [
       "<div>\n",
       "<table border=\"1\" class=\"dataframe\">\n",
       "  <thead>\n",
       "    <tr style=\"text-align: right;\">\n",
       "      <th></th>\n",
       "      <th>3</th>\n",
       "      <th>0</th>\n",
       "    </tr>\n",
       "  </thead>\n",
       "  <tbody>\n",
       "    <tr>\n",
       "      <th>0</th>\n",
       "      <td>2003</td>\n",
       "      <td>1</td>\n",
       "    </tr>\n",
       "    <tr>\n",
       "      <th>1</th>\n",
       "      <td>2004</td>\n",
       "      <td>4</td>\n",
       "    </tr>\n",
       "    <tr>\n",
       "      <th>2</th>\n",
       "      <td>2005</td>\n",
       "      <td>5</td>\n",
       "    </tr>\n",
       "    <tr>\n",
       "      <th>3</th>\n",
       "      <td>2006</td>\n",
       "      <td>1</td>\n",
       "    </tr>\n",
       "    <tr>\n",
       "      <th>4</th>\n",
       "      <td>2007</td>\n",
       "      <td>3</td>\n",
       "    </tr>\n",
       "    <tr>\n",
       "      <th>5</th>\n",
       "      <td>2008</td>\n",
       "      <td>40</td>\n",
       "    </tr>\n",
       "    <tr>\n",
       "      <th>6</th>\n",
       "      <td>2009</td>\n",
       "      <td>83</td>\n",
       "    </tr>\n",
       "    <tr>\n",
       "      <th>7</th>\n",
       "      <td>2010</td>\n",
       "      <td>145</td>\n",
       "    </tr>\n",
       "    <tr>\n",
       "      <th>8</th>\n",
       "      <td>2011</td>\n",
       "      <td>149</td>\n",
       "    </tr>\n",
       "    <tr>\n",
       "      <th>9</th>\n",
       "      <td>2012</td>\n",
       "      <td>119</td>\n",
       "    </tr>\n",
       "    <tr>\n",
       "      <th>10</th>\n",
       "      <td>2013</td>\n",
       "      <td>102</td>\n",
       "    </tr>\n",
       "    <tr>\n",
       "      <th>11</th>\n",
       "      <td>2014</td>\n",
       "      <td>230</td>\n",
       "    </tr>\n",
       "  </tbody>\n",
       "</table>\n",
       "</div>"
      ],
      "text/plain": [
       "       3    0\n",
       "0   2003    1\n",
       "1   2004    4\n",
       "2   2005    5\n",
       "3   2006    1\n",
       "4   2007    3\n",
       "5   2008   40\n",
       "6   2009   83\n",
       "7   2010  145\n",
       "8   2011  149\n",
       "9   2012  119\n",
       "10  2013  102\n",
       "11  2014  230"
      ]
     },
     "execution_count": 15,
     "metadata": {},
     "output_type": "execute_result"
    }
   ],
   "source": [
    "yy = xx[xx[2] == 'accidentsAndIncidents'].drop([1,2],1)\n",
    "yy\n",
    "list(yy.itertuples(index=False))"
   ]
  },
  {
   "cell_type": "code",
   "execution_count": 22,
   "metadata": {
    "collapsed": false
   },
   "outputs": [],
   "source": [
    "zz = list(yy.itertuples(index=False))"
   ]
  },
  {
   "cell_type": "code",
   "execution_count": 24,
   "metadata": {
    "collapsed": false
   },
   "outputs": [
    {
     "data": {
      "text/plain": [
       "12"
      ]
     },
     "execution_count": 24,
     "metadata": {},
     "output_type": "execute_result"
    }
   ],
   "source": [
    "len(zz)"
   ]
  },
  {
   "cell_type": "code",
   "execution_count": null,
   "metadata": {
    "collapsed": true
   },
   "outputs": [],
   "source": [
    "xx = events.groupby(['event_type', 'year']).count().reset_index()\n",
    "xx[xx['event_type'] == 'DelayStatusCancellation'].groupby('year').count().reset_index()\n",
    "\n",
    "\n",
    "list(df.reset_index()[['index','col1']].itertuples(index=False))"
   ]
  },
  {
   "cell_type": "code",
   "execution_count": 68,
   "metadata": {
    "collapsed": false
   },
   "outputs": [
    {
     "data": {
      "text/html": [
       "<div>\n",
       "<table border=\"1\" class=\"dataframe\">\n",
       "  <thead>\n",
       "    <tr style=\"text-align: right;\">\n",
       "      <th></th>\n",
       "      <th>3</th>\n",
       "      <th>2</th>\n",
       "      <th>0</th>\n",
       "      <th>1</th>\n",
       "    </tr>\n",
       "  </thead>\n",
       "  <tbody>\n",
       "    <tr>\n",
       "      <th>0</th>\n",
       "      <td>2003</td>\n",
       "      <td>1</td>\n",
       "      <td>1</td>\n",
       "      <td>1</td>\n",
       "    </tr>\n",
       "    <tr>\n",
       "      <th>1</th>\n",
       "      <td>2004</td>\n",
       "      <td>1</td>\n",
       "      <td>1</td>\n",
       "      <td>1</td>\n",
       "    </tr>\n",
       "    <tr>\n",
       "      <th>2</th>\n",
       "      <td>2005</td>\n",
       "      <td>1</td>\n",
       "      <td>1</td>\n",
       "      <td>1</td>\n",
       "    </tr>\n",
       "    <tr>\n",
       "      <th>3</th>\n",
       "      <td>2006</td>\n",
       "      <td>1</td>\n",
       "      <td>1</td>\n",
       "      <td>1</td>\n",
       "    </tr>\n",
       "    <tr>\n",
       "      <th>4</th>\n",
       "      <td>2007</td>\n",
       "      <td>1</td>\n",
       "      <td>1</td>\n",
       "      <td>1</td>\n",
       "    </tr>\n",
       "    <tr>\n",
       "      <th>5</th>\n",
       "      <td>2008</td>\n",
       "      <td>1</td>\n",
       "      <td>1</td>\n",
       "      <td>1</td>\n",
       "    </tr>\n",
       "    <tr>\n",
       "      <th>6</th>\n",
       "      <td>2009</td>\n",
       "      <td>1</td>\n",
       "      <td>1</td>\n",
       "      <td>1</td>\n",
       "    </tr>\n",
       "    <tr>\n",
       "      <th>7</th>\n",
       "      <td>2010</td>\n",
       "      <td>1</td>\n",
       "      <td>1</td>\n",
       "      <td>1</td>\n",
       "    </tr>\n",
       "    <tr>\n",
       "      <th>8</th>\n",
       "      <td>2011</td>\n",
       "      <td>1</td>\n",
       "      <td>1</td>\n",
       "      <td>1</td>\n",
       "    </tr>\n",
       "    <tr>\n",
       "      <th>9</th>\n",
       "      <td>2012</td>\n",
       "      <td>1</td>\n",
       "      <td>1</td>\n",
       "      <td>1</td>\n",
       "    </tr>\n",
       "    <tr>\n",
       "      <th>10</th>\n",
       "      <td>2013</td>\n",
       "      <td>1</td>\n",
       "      <td>1</td>\n",
       "      <td>1</td>\n",
       "    </tr>\n",
       "    <tr>\n",
       "      <th>11</th>\n",
       "      <td>2014</td>\n",
       "      <td>1</td>\n",
       "      <td>1</td>\n",
       "      <td>1</td>\n",
       "    </tr>\n",
       "  </tbody>\n",
       "</table>\n",
       "</div>"
      ],
      "text/plain": [
       "       3  2  0  1\n",
       "0   2003  1  1  1\n",
       "1   2004  1  1  1\n",
       "2   2005  1  1  1\n",
       "3   2006  1  1  1\n",
       "4   2007  1  1  1\n",
       "5   2008  1  1  1\n",
       "6   2009  1  1  1\n",
       "7   2010  1  1  1\n",
       "8   2011  1  1  1\n",
       "9   2012  1  1  1\n",
       "10  2013  1  1  1\n",
       "11  2014  1  1  1"
      ]
     },
     "execution_count": 68,
     "metadata": {},
     "output_type": "execute_result"
    }
   ],
   "source": []
  },
  {
   "cell_type": "code",
   "execution_count": null,
   "metadata": {
    "collapsed": false
   },
   "outputs": [],
   "source": [
    "for group in eventTypes:\n",
    "    yy = xx[xx[2] == group].drop([1,2],1)\n",
    "    list(yy.itertuples(index=False))"
   ]
  },
  {
   "cell_type": "code",
   "execution_count": null,
   "metadata": {
    "collapsed": false
   },
   "outputs": [],
   "source": [
    "xx"
   ]
  },
  {
   "cell_type": "code",
   "execution_count": 87,
   "metadata": {
    "collapsed": false
   },
   "outputs": [
    {
     "data": {
      "text/plain": [
       "[Pandas(_0='2008', _1=1),\n",
       " Pandas(_0='2009', _1=4),\n",
       " Pandas(_0='2010', _1=32),\n",
       " Pandas(_0='2011', _1=1),\n",
       " Pandas(_0='2012', _1=8),\n",
       " Pandas(_0='2013', _1=2),\n",
       " Pandas(_0='2014', _1=13)]"
      ]
     },
     "execution_count": 87,
     "metadata": {},
     "output_type": "execute_result"
    }
   ],
   "source": [
    "yy = xx[xx[2] == 'roadwork'].drop([1,2],1)\n",
    "list(yy.itertuples(index=False))"
   ]
  },
  {
   "cell_type": "code",
   "execution_count": 69,
   "metadata": {
    "collapsed": false
   },
   "outputs": [
    {
     "data": {
      "text/html": [
       "<div>\n",
       "<table border=\"1\" class=\"dataframe\">\n",
       "  <thead>\n",
       "    <tr style=\"text-align: right;\">\n",
       "      <th></th>\n",
       "      <th>2</th>\n",
       "      <th>3</th>\n",
       "      <th>0</th>\n",
       "      <th>1</th>\n",
       "    </tr>\n",
       "  </thead>\n",
       "  <tbody>\n",
       "    <tr>\n",
       "      <th>0</th>\n",
       "      <td>accidentsAndIncidents</td>\n",
       "      <td>2003</td>\n",
       "      <td>1</td>\n",
       "      <td>1</td>\n",
       "    </tr>\n",
       "    <tr>\n",
       "      <th>1</th>\n",
       "      <td>accidentsAndIncidents</td>\n",
       "      <td>2004</td>\n",
       "      <td>4</td>\n",
       "      <td>4</td>\n",
       "    </tr>\n",
       "    <tr>\n",
       "      <th>2</th>\n",
       "      <td>accidentsAndIncidents</td>\n",
       "      <td>2005</td>\n",
       "      <td>5</td>\n",
       "      <td>5</td>\n",
       "    </tr>\n",
       "    <tr>\n",
       "      <th>3</th>\n",
       "      <td>accidentsAndIncidents</td>\n",
       "      <td>2006</td>\n",
       "      <td>1</td>\n",
       "      <td>1</td>\n",
       "    </tr>\n",
       "    <tr>\n",
       "      <th>4</th>\n",
       "      <td>accidentsAndIncidents</td>\n",
       "      <td>2007</td>\n",
       "      <td>3</td>\n",
       "      <td>3</td>\n",
       "    </tr>\n",
       "    <tr>\n",
       "      <th>5</th>\n",
       "      <td>accidentsAndIncidents</td>\n",
       "      <td>2008</td>\n",
       "      <td>40</td>\n",
       "      <td>40</td>\n",
       "    </tr>\n",
       "    <tr>\n",
       "      <th>6</th>\n",
       "      <td>accidentsAndIncidents</td>\n",
       "      <td>2009</td>\n",
       "      <td>83</td>\n",
       "      <td>83</td>\n",
       "    </tr>\n",
       "    <tr>\n",
       "      <th>7</th>\n",
       "      <td>accidentsAndIncidents</td>\n",
       "      <td>2010</td>\n",
       "      <td>145</td>\n",
       "      <td>145</td>\n",
       "    </tr>\n",
       "    <tr>\n",
       "      <th>8</th>\n",
       "      <td>accidentsAndIncidents</td>\n",
       "      <td>2011</td>\n",
       "      <td>149</td>\n",
       "      <td>149</td>\n",
       "    </tr>\n",
       "    <tr>\n",
       "      <th>9</th>\n",
       "      <td>accidentsAndIncidents</td>\n",
       "      <td>2012</td>\n",
       "      <td>119</td>\n",
       "      <td>119</td>\n",
       "    </tr>\n",
       "    <tr>\n",
       "      <th>10</th>\n",
       "      <td>accidentsAndIncidents</td>\n",
       "      <td>2013</td>\n",
       "      <td>102</td>\n",
       "      <td>102</td>\n",
       "    </tr>\n",
       "    <tr>\n",
       "      <th>11</th>\n",
       "      <td>accidentsAndIncidents</td>\n",
       "      <td>2014</td>\n",
       "      <td>230</td>\n",
       "      <td>230</td>\n",
       "    </tr>\n",
       "    <tr>\n",
       "      <th>12</th>\n",
       "      <td>disasters</td>\n",
       "      <td>2012</td>\n",
       "      <td>1</td>\n",
       "      <td>1</td>\n",
       "    </tr>\n",
       "    <tr>\n",
       "      <th>13</th>\n",
       "      <td>obstruction</td>\n",
       "      <td>2006</td>\n",
       "      <td>1</td>\n",
       "      <td>1</td>\n",
       "    </tr>\n",
       "    <tr>\n",
       "      <th>14</th>\n",
       "      <td>obstruction</td>\n",
       "      <td>2008</td>\n",
       "      <td>4</td>\n",
       "      <td>4</td>\n",
       "    </tr>\n",
       "    <tr>\n",
       "      <th>15</th>\n",
       "      <td>obstruction</td>\n",
       "      <td>2009</td>\n",
       "      <td>7</td>\n",
       "      <td>7</td>\n",
       "    </tr>\n",
       "    <tr>\n",
       "      <th>16</th>\n",
       "      <td>obstruction</td>\n",
       "      <td>2010</td>\n",
       "      <td>9</td>\n",
       "      <td>9</td>\n",
       "    </tr>\n",
       "    <tr>\n",
       "      <th>17</th>\n",
       "      <td>obstruction</td>\n",
       "      <td>2011</td>\n",
       "      <td>19</td>\n",
       "      <td>19</td>\n",
       "    </tr>\n",
       "    <tr>\n",
       "      <th>18</th>\n",
       "      <td>obstruction</td>\n",
       "      <td>2012</td>\n",
       "      <td>7</td>\n",
       "      <td>7</td>\n",
       "    </tr>\n",
       "    <tr>\n",
       "      <th>19</th>\n",
       "      <td>obstruction</td>\n",
       "      <td>2013</td>\n",
       "      <td>7</td>\n",
       "      <td>7</td>\n",
       "    </tr>\n",
       "    <tr>\n",
       "      <th>20</th>\n",
       "      <td>obstruction</td>\n",
       "      <td>2014</td>\n",
       "      <td>16</td>\n",
       "      <td>16</td>\n",
       "    </tr>\n",
       "    <tr>\n",
       "      <th>21</th>\n",
       "      <td>roadwork</td>\n",
       "      <td>2008</td>\n",
       "      <td>1</td>\n",
       "      <td>1</td>\n",
       "    </tr>\n",
       "    <tr>\n",
       "      <th>22</th>\n",
       "      <td>roadwork</td>\n",
       "      <td>2009</td>\n",
       "      <td>4</td>\n",
       "      <td>4</td>\n",
       "    </tr>\n",
       "    <tr>\n",
       "      <th>23</th>\n",
       "      <td>roadwork</td>\n",
       "      <td>2010</td>\n",
       "      <td>32</td>\n",
       "      <td>32</td>\n",
       "    </tr>\n",
       "    <tr>\n",
       "      <th>24</th>\n",
       "      <td>roadwork</td>\n",
       "      <td>2011</td>\n",
       "      <td>1</td>\n",
       "      <td>1</td>\n",
       "    </tr>\n",
       "    <tr>\n",
       "      <th>25</th>\n",
       "      <td>roadwork</td>\n",
       "      <td>2012</td>\n",
       "      <td>8</td>\n",
       "      <td>8</td>\n",
       "    </tr>\n",
       "    <tr>\n",
       "      <th>26</th>\n",
       "      <td>roadwork</td>\n",
       "      <td>2013</td>\n",
       "      <td>2</td>\n",
       "      <td>2</td>\n",
       "    </tr>\n",
       "    <tr>\n",
       "      <th>27</th>\n",
       "      <td>roadwork</td>\n",
       "      <td>2014</td>\n",
       "      <td>13</td>\n",
       "      <td>13</td>\n",
       "    </tr>\n",
       "    <tr>\n",
       "      <th>28</th>\n",
       "      <td>trafficConditions</td>\n",
       "      <td>2003</td>\n",
       "      <td>1</td>\n",
       "      <td>1</td>\n",
       "    </tr>\n",
       "    <tr>\n",
       "      <th>29</th>\n",
       "      <td>trafficConditions</td>\n",
       "      <td>2009</td>\n",
       "      <td>1</td>\n",
       "      <td>1</td>\n",
       "    </tr>\n",
       "    <tr>\n",
       "      <th>30</th>\n",
       "      <td>warningAdvice</td>\n",
       "      <td>2011</td>\n",
       "      <td>1</td>\n",
       "      <td>1</td>\n",
       "    </tr>\n",
       "  </tbody>\n",
       "</table>\n",
       "</div>"
      ],
      "text/plain": [
       "                        2     3    0    1\n",
       "0   accidentsAndIncidents  2003    1    1\n",
       "1   accidentsAndIncidents  2004    4    4\n",
       "2   accidentsAndIncidents  2005    5    5\n",
       "3   accidentsAndIncidents  2006    1    1\n",
       "4   accidentsAndIncidents  2007    3    3\n",
       "5   accidentsAndIncidents  2008   40   40\n",
       "6   accidentsAndIncidents  2009   83   83\n",
       "7   accidentsAndIncidents  2010  145  145\n",
       "8   accidentsAndIncidents  2011  149  149\n",
       "9   accidentsAndIncidents  2012  119  119\n",
       "10  accidentsAndIncidents  2013  102  102\n",
       "11  accidentsAndIncidents  2014  230  230\n",
       "12              disasters  2012    1    1\n",
       "13            obstruction  2006    1    1\n",
       "14            obstruction  2008    4    4\n",
       "15            obstruction  2009    7    7\n",
       "16            obstruction  2010    9    9\n",
       "17            obstruction  2011   19   19\n",
       "18            obstruction  2012    7    7\n",
       "19            obstruction  2013    7    7\n",
       "20            obstruction  2014   16   16\n",
       "21               roadwork  2008    1    1\n",
       "22               roadwork  2009    4    4\n",
       "23               roadwork  2010   32   32\n",
       "24               roadwork  2011    1    1\n",
       "25               roadwork  2012    8    8\n",
       "26               roadwork  2013    2    2\n",
       "27               roadwork  2014   13   13\n",
       "28      trafficConditions  2003    1    1\n",
       "29      trafficConditions  2009    1    1\n",
       "30          warningAdvice  2011    1    1"
      ]
     },
     "execution_count": 69,
     "metadata": {},
     "output_type": "execute_result"
    }
   ],
   "source": [
    "xx = pd.DataFrame(mypoint[pos]).groupby([2, 3]).count().reset_index()\n",
    "xx"
   ]
  },
  {
   "cell_type": "code",
   "execution_count": 211,
   "metadata": {
    "collapsed": false
   },
   "outputs": [],
   "source": [
    "def box_indices(row):\n",
    "    x1, x2 = row['nw_lon'], row['se_lon']\n",
    "    y1, y2 = row['se_lat'], row['nw_lat']\n",
    "\n",
    "    ll = np.array([x1, y1])\n",
    "    ur = np.array([x2, y2])\n",
    "    \n",
    "    for eventType in eventTypes:\n",
    "        group = eventGroups.get_group(eventType)\n",
    "        pts = group[['longitude', 'latitude']].as_matrix()\n",
    "        inidx = np.all(np.logical_and(ll <= pts, pts <= ur), axis=1)\n",
    "        inbox = pts[inidx]\n",
    "        \n",
    "        row[eventType] = len(inbox)"
   ]
  },
  {
   "cell_type": "code",
   "execution_count": 66,
   "metadata": {
    "collapsed": false
   },
   "outputs": [],
   "source": [
    "def accident_indices(row):\n",
    "    x1, x2 = row['nw_lon'], row['se_lon']\n",
    "    y1, y2 = row['se_lat'], row['nw_lat']\n",
    "\n",
    "    ll = np.array([x1, y1])\n",
    "    ur = np.array([x2, y2])\n",
    "    \n",
    "    group = eventGroups.get_group('accidentsAndIncidents')\n",
    "    pts = group[['longitude', 'latitude']].as_matrix()\n",
    "    inidx = np.all(np.logical_and(ll <= pts, pts <= ur), axis=1)\n",
    "    inbox = pts[inidx]\n",
    "    \n",
    "    print len(inbox)\n",
    "\n",
    "    return [inidx]"
   ]
  },
  {
   "cell_type": "code",
   "execution_count": null,
   "metadata": {
    "collapsed": true
   },
   "outputs": [],
   "source": []
  },
  {
   "cell_type": "code",
   "execution_count": 67,
   "metadata": {
    "collapsed": false
   },
   "outputs": [
    {
     "data": {
      "text/html": [
       "<div>\n",
       "<table border=\"1\" class=\"dataframe\">\n",
       "  <thead>\n",
       "    <tr style=\"text-align: right;\">\n",
       "      <th></th>\n",
       "      <th>trial_id</th>\n",
       "      <th>nw_lat</th>\n",
       "      <th>nw_lon</th>\n",
       "      <th>se_lat</th>\n",
       "      <th>se_lon</th>\n",
       "      <th>start</th>\n",
       "      <th>end</th>\n",
       "    </tr>\n",
       "  </thead>\n",
       "  <tbody>\n",
       "    <tr>\n",
       "      <th>0</th>\n",
       "      <td>p_00000001</td>\n",
       "      <td>39.182985</td>\n",
       "      <td>-76.798663</td>\n",
       "      <td>39.170238</td>\n",
       "      <td>-76.778150</td>\n",
       "      <td>2015-02-01T00:00:00-05:00</td>\n",
       "      <td>2015-03-01T00:00:00-05:00</td>\n",
       "    </tr>\n",
       "    <tr>\n",
       "      <th>1</th>\n",
       "      <td>p_00000002</td>\n",
       "      <td>39.303607</td>\n",
       "      <td>-76.829335</td>\n",
       "      <td>39.296709</td>\n",
       "      <td>-76.806935</td>\n",
       "      <td>2016-01-08T00:00:00-05:00</td>\n",
       "      <td>2016-01-22T00:00:00-05:00</td>\n",
       "    </tr>\n",
       "    <tr>\n",
       "      <th>2</th>\n",
       "      <td>p_00000003</td>\n",
       "      <td>38.946840</td>\n",
       "      <td>-76.783484</td>\n",
       "      <td>38.931581</td>\n",
       "      <td>-76.761971</td>\n",
       "      <td>2015-03-01T00:00:00-05:00</td>\n",
       "      <td>2015-04-01T00:00:00-05:00</td>\n",
       "    </tr>\n",
       "    <tr>\n",
       "      <th>3</th>\n",
       "      <td>p_00000004</td>\n",
       "      <td>38.996686</td>\n",
       "      <td>-77.159555</td>\n",
       "      <td>38.982995</td>\n",
       "      <td>-77.140682</td>\n",
       "      <td>2015-01-01T00:00:00-05:00</td>\n",
       "      <td>2015-02-01T00:00:00-05:00</td>\n",
       "    </tr>\n",
       "    <tr>\n",
       "      <th>4</th>\n",
       "      <td>p_00000005</td>\n",
       "      <td>39.283366</td>\n",
       "      <td>-76.562381</td>\n",
       "      <td>39.265534</td>\n",
       "      <td>-76.544242</td>\n",
       "      <td>2016-04-05T00:00:00-05:00</td>\n",
       "      <td>2016-04-14T00:00:00-05:00</td>\n",
       "    </tr>\n",
       "  </tbody>\n",
       "</table>\n",
       "</div>"
      ],
      "text/plain": [
       "     trial_id     nw_lat     nw_lon     se_lat     se_lon  \\\n",
       "0  p_00000001  39.182985 -76.798663  39.170238 -76.778150   \n",
       "1  p_00000002  39.303607 -76.829335  39.296709 -76.806935   \n",
       "2  p_00000003  38.946840 -76.783484  38.931581 -76.761971   \n",
       "3  p_00000004  38.996686 -77.159555  38.982995 -77.140682   \n",
       "4  p_00000005  39.283366 -76.562381  39.265534 -76.544242   \n",
       "\n",
       "                       start                        end  \n",
       "0  2015-02-01T00:00:00-05:00  2015-03-01T00:00:00-05:00  \n",
       "1  2016-01-08T00:00:00-05:00  2016-01-22T00:00:00-05:00  \n",
       "2  2015-03-01T00:00:00-05:00  2015-04-01T00:00:00-05:00  \n",
       "3  2015-01-01T00:00:00-05:00  2015-02-01T00:00:00-05:00  \n",
       "4  2016-04-05T00:00:00-05:00  2016-04-14T00:00:00-05:00  "
      ]
     },
     "execution_count": 67,
     "metadata": {},
     "output_type": "execute_result"
    }
   ],
   "source": [
    "trialf = trials[0:5]\n",
    "trialf.head()"
   ]
  },
  {
   "cell_type": "code",
   "execution_count": 68,
   "metadata": {
    "collapsed": false
   },
   "outputs": [
    {
     "data": {
      "text/html": [
       "<div>\n",
       "<table border=\"1\" class=\"dataframe\">\n",
       "  <thead>\n",
       "    <tr style=\"text-align: right;\">\n",
       "      <th></th>\n",
       "      <th>trial_id</th>\n",
       "      <th>nw_lat</th>\n",
       "      <th>nw_lon</th>\n",
       "      <th>se_lat</th>\n",
       "      <th>se_lon</th>\n",
       "      <th>start</th>\n",
       "      <th>end</th>\n",
       "    </tr>\n",
       "  </thead>\n",
       "  <tbody>\n",
       "    <tr>\n",
       "      <th>0</th>\n",
       "      <td>p_00000001</td>\n",
       "      <td>39.182985</td>\n",
       "      <td>-76.798663</td>\n",
       "      <td>39.170238</td>\n",
       "      <td>-76.778150</td>\n",
       "      <td>2015-02-01T00:00:00-05:00</td>\n",
       "      <td>2015-03-01T00:00:00-05:00</td>\n",
       "    </tr>\n",
       "    <tr>\n",
       "      <th>1</th>\n",
       "      <td>p_00000002</td>\n",
       "      <td>39.303607</td>\n",
       "      <td>-76.829335</td>\n",
       "      <td>39.296709</td>\n",
       "      <td>-76.806935</td>\n",
       "      <td>2016-01-08T00:00:00-05:00</td>\n",
       "      <td>2016-01-22T00:00:00-05:00</td>\n",
       "    </tr>\n",
       "    <tr>\n",
       "      <th>2</th>\n",
       "      <td>p_00000003</td>\n",
       "      <td>38.946840</td>\n",
       "      <td>-76.783484</td>\n",
       "      <td>38.931581</td>\n",
       "      <td>-76.761971</td>\n",
       "      <td>2015-03-01T00:00:00-05:00</td>\n",
       "      <td>2015-04-01T00:00:00-05:00</td>\n",
       "    </tr>\n",
       "    <tr>\n",
       "      <th>3</th>\n",
       "      <td>p_00000004</td>\n",
       "      <td>38.996686</td>\n",
       "      <td>-77.159555</td>\n",
       "      <td>38.982995</td>\n",
       "      <td>-77.140682</td>\n",
       "      <td>2015-01-01T00:00:00-05:00</td>\n",
       "      <td>2015-02-01T00:00:00-05:00</td>\n",
       "    </tr>\n",
       "    <tr>\n",
       "      <th>4</th>\n",
       "      <td>p_00000005</td>\n",
       "      <td>39.283366</td>\n",
       "      <td>-76.562381</td>\n",
       "      <td>39.265534</td>\n",
       "      <td>-76.544242</td>\n",
       "      <td>2016-04-05T00:00:00-05:00</td>\n",
       "      <td>2016-04-14T00:00:00-05:00</td>\n",
       "    </tr>\n",
       "  </tbody>\n",
       "</table>\n",
       "</div>"
      ],
      "text/plain": [
       "     trial_id     nw_lat     nw_lon     se_lat     se_lon  \\\n",
       "0  p_00000001  39.182985 -76.798663  39.170238 -76.778150   \n",
       "1  p_00000002  39.303607 -76.829335  39.296709 -76.806935   \n",
       "2  p_00000003  38.946840 -76.783484  38.931581 -76.761971   \n",
       "3  p_00000004  38.996686 -77.159555  38.982995 -77.140682   \n",
       "4  p_00000005  39.283366 -76.562381  39.265534 -76.544242   \n",
       "\n",
       "                       start                        end  \n",
       "0  2015-02-01T00:00:00-05:00  2015-03-01T00:00:00-05:00  \n",
       "1  2016-01-08T00:00:00-05:00  2016-01-22T00:00:00-05:00  \n",
       "2  2015-03-01T00:00:00-05:00  2015-04-01T00:00:00-05:00  \n",
       "3  2015-01-01T00:00:00-05:00  2015-02-01T00:00:00-05:00  \n",
       "4  2016-04-05T00:00:00-05:00  2016-04-14T00:00:00-05:00  "
      ]
     },
     "execution_count": 68,
     "metadata": {},
     "output_type": "execute_result"
    }
   ],
   "source": [
    "trialf.head()"
   ]
  },
  {
   "cell_type": "code",
   "execution_count": 69,
   "metadata": {
    "collapsed": false
   },
   "outputs": [
    {
     "name": "stdout",
     "output_type": "stream",
     "text": [
      "1971\n",
      "74\n",
      "882\n",
      "1783\n",
      "2182\n"
     ]
    },
    {
     "name": "stderr",
     "output_type": "stream",
     "text": [
      "C:\\Users\\Ashok\\Anaconda2\\lib\\site-packages\\ipykernel\\__main__.py:1: SettingWithCopyWarning: \n",
      "A value is trying to be set on a copy of a slice from a DataFrame.\n",
      "Try using .loc[row_indexer,col_indexer] = value instead\n",
      "\n",
      "See the caveats in the documentation: http://pandas.pydata.org/pandas-docs/stable/indexing.html#indexing-view-versus-copy\n",
      "  if __name__ == '__main__':\n"
     ]
    }
   ],
   "source": [
    "trialf['accidents'] = trialf.apply(lambda row: accident_indices(row), axis=1)"
   ]
  },
  {
   "cell_type": "code",
   "execution_count": 60,
   "metadata": {
    "collapsed": false
   },
   "outputs": [
    {
     "ename": "NameError",
     "evalue": "name 'mypoint' is not defined",
     "output_type": "error",
     "traceback": [
      "\u001b[0;31m---------------------------------------------------------------------------\u001b[0m",
      "\u001b[0;31mNameError\u001b[0m                                 Traceback (most recent call last)",
      "\u001b[0;32m<ipython-input-60-8f4495a541f6>\u001b[0m in \u001b[0;36m<module>\u001b[0;34m()\u001b[0m\n\u001b[1;32m      1\u001b[0m \u001b[0mstart_time\u001b[0m \u001b[1;33m=\u001b[0m \u001b[0mtime\u001b[0m\u001b[1;33m.\u001b[0m\u001b[0mtime\u001b[0m\u001b[1;33m(\u001b[0m\u001b[1;33m)\u001b[0m\u001b[1;33m\u001b[0m\u001b[0m\n\u001b[0;32m----> 2\u001b[0;31m \u001b[0mpts\u001b[0m \u001b[1;33m=\u001b[0m \u001b[0mmypoint\u001b[0m\u001b[1;33m\u001b[0m\u001b[0m\n\u001b[0m\u001b[1;32m      3\u001b[0m \u001b[1;33m\u001b[0m\u001b[0m\n\u001b[1;32m      4\u001b[0m \u001b[1;32mfor\u001b[0m \u001b[0mtin\u001b[0m \u001b[1;32min\u001b[0m \u001b[0mrange\u001b[0m\u001b[1;33m(\u001b[0m\u001b[1;36m5\u001b[0m\u001b[1;33m)\u001b[0m\u001b[1;33m:\u001b[0m\u001b[1;33m\u001b[0m\u001b[0m\n\u001b[1;32m      5\u001b[0m \u001b[1;33m\u001b[0m\u001b[0m\n",
      "\u001b[0;31mNameError\u001b[0m: name 'mypoint' is not defined"
     ]
    }
   ],
   "source": [
    "start_time = time.time()\n",
    "pts = mypoint\n",
    "\n",
    "for tin in range(5):\n",
    "\n",
    "    x1, x2 = trials.loc[tin]['nw_lon'], trials.loc[tin]['se_lon']\n",
    "    y1, y2 = trials.loc[tin]['se_lat'], trials.loc[tin]['nw_lat']\n",
    "\n",
    "\n",
    "    ll = np.array([x1, y1])  # lower-left\n",
    "    ur = np.array([x2, y2])  # upper-right\n",
    "\n",
    "    inidx = np.all(np.logical_and(ll <= pts, pts <= ur), axis=1)\n",
    "    inbox = pts[inidx]\n",
    "    #outbox = pts[np.logical_not(inidx)]\n",
    "    #return len(inbox)\n",
    "    \n",
    "    print len(inbox)\n",
    "    #pos = np.where(inidx==True)\n",
    "    #print pos"
   ]
  },
  {
   "cell_type": "code",
   "execution_count": 165,
   "metadata": {
    "collapsed": true
   },
   "outputs": [],
   "source": [
    "train = pd.read_csv(\"training.csv\",header=0)"
   ]
  },
  {
   "cell_type": "code",
   "execution_count": 64,
   "metadata": {
    "collapsed": false
   },
   "outputs": [],
   "source": [
    "trials[1] = 0\n",
    "trials[2] = 0\n",
    "trials[3] = 0\n",
    "trials[4] = 0\n",
    "trials[5] = 0\n",
    "trials[6] = 0\n"
   ]
  },
  {
   "cell_type": "code",
   "execution_count": 68,
   "metadata": {
    "collapsed": false
   },
   "outputs": [
    {
     "data": {
      "text/html": [
       "<div>\n",
       "<table border=\"1\" class=\"dataframe\">\n",
       "  <thead>\n",
       "    <tr style=\"text-align: right;\">\n",
       "      <th></th>\n",
       "      <th>trial_id</th>\n",
       "      <th>nw_lat</th>\n",
       "      <th>nw_lon</th>\n",
       "      <th>se_lat</th>\n",
       "      <th>se_lon</th>\n",
       "      <th>start</th>\n",
       "      <th>end</th>\n",
       "      <th>0</th>\n",
       "      <th>(0, 1)</th>\n",
       "      <th>1</th>\n",
       "      <th>2</th>\n",
       "      <th>3</th>\n",
       "      <th>4</th>\n",
       "      <th>5</th>\n",
       "      <th>6</th>\n",
       "    </tr>\n",
       "  </thead>\n",
       "  <tbody>\n",
       "    <tr>\n",
       "      <th>0</th>\n",
       "      <td>p_00000001</td>\n",
       "      <td>39.182985</td>\n",
       "      <td>-76.798663</td>\n",
       "      <td>39.170238</td>\n",
       "      <td>-76.778150</td>\n",
       "      <td>2015-02-01T00:00:00-05:00</td>\n",
       "      <td>2015-03-01T00:00:00-05:00</td>\n",
       "      <td>0</td>\n",
       "      <td>0</td>\n",
       "      <td>0</td>\n",
       "      <td>0</td>\n",
       "      <td>0</td>\n",
       "      <td>0</td>\n",
       "      <td>0</td>\n",
       "      <td>0</td>\n",
       "    </tr>\n",
       "    <tr>\n",
       "      <th>1</th>\n",
       "      <td>p_00000002</td>\n",
       "      <td>39.303607</td>\n",
       "      <td>-76.829335</td>\n",
       "      <td>39.296709</td>\n",
       "      <td>-76.806935</td>\n",
       "      <td>2016-01-08T00:00:00-05:00</td>\n",
       "      <td>2016-01-22T00:00:00-05:00</td>\n",
       "      <td>0</td>\n",
       "      <td>0</td>\n",
       "      <td>0</td>\n",
       "      <td>0</td>\n",
       "      <td>0</td>\n",
       "      <td>0</td>\n",
       "      <td>0</td>\n",
       "      <td>0</td>\n",
       "    </tr>\n",
       "    <tr>\n",
       "      <th>2</th>\n",
       "      <td>p_00000003</td>\n",
       "      <td>38.946840</td>\n",
       "      <td>-76.783484</td>\n",
       "      <td>38.931581</td>\n",
       "      <td>-76.761971</td>\n",
       "      <td>2015-03-01T00:00:00-05:00</td>\n",
       "      <td>2015-04-01T00:00:00-05:00</td>\n",
       "      <td>0</td>\n",
       "      <td>0</td>\n",
       "      <td>0</td>\n",
       "      <td>0</td>\n",
       "      <td>0</td>\n",
       "      <td>0</td>\n",
       "      <td>0</td>\n",
       "      <td>0</td>\n",
       "    </tr>\n",
       "    <tr>\n",
       "      <th>3</th>\n",
       "      <td>p_00000004</td>\n",
       "      <td>38.996686</td>\n",
       "      <td>-77.159555</td>\n",
       "      <td>38.982995</td>\n",
       "      <td>-77.140682</td>\n",
       "      <td>2015-01-01T00:00:00-05:00</td>\n",
       "      <td>2015-02-01T00:00:00-05:00</td>\n",
       "      <td>0</td>\n",
       "      <td>0</td>\n",
       "      <td>0</td>\n",
       "      <td>0</td>\n",
       "      <td>0</td>\n",
       "      <td>0</td>\n",
       "      <td>0</td>\n",
       "      <td>0</td>\n",
       "    </tr>\n",
       "    <tr>\n",
       "      <th>4</th>\n",
       "      <td>p_00000005</td>\n",
       "      <td>39.283366</td>\n",
       "      <td>-76.562381</td>\n",
       "      <td>39.265534</td>\n",
       "      <td>-76.544242</td>\n",
       "      <td>2016-04-05T00:00:00-05:00</td>\n",
       "      <td>2016-04-14T00:00:00-05:00</td>\n",
       "      <td>0</td>\n",
       "      <td>0</td>\n",
       "      <td>0</td>\n",
       "      <td>0</td>\n",
       "      <td>0</td>\n",
       "      <td>0</td>\n",
       "      <td>0</td>\n",
       "      <td>0</td>\n",
       "    </tr>\n",
       "  </tbody>\n",
       "</table>\n",
       "</div>"
      ],
      "text/plain": [
       "     trial_id     nw_lat     nw_lon     se_lat     se_lon  \\\n",
       "0  p_00000001  39.182985 -76.798663  39.170238 -76.778150   \n",
       "1  p_00000002  39.303607 -76.829335  39.296709 -76.806935   \n",
       "2  p_00000003  38.946840 -76.783484  38.931581 -76.761971   \n",
       "3  p_00000004  38.996686 -77.159555  38.982995 -77.140682   \n",
       "4  p_00000005  39.283366 -76.562381  39.265534 -76.544242   \n",
       "\n",
       "                       start                        end  0  (0, 1)  1  2  3  \\\n",
       "0  2015-02-01T00:00:00-05:00  2015-03-01T00:00:00-05:00  0       0  0  0  0   \n",
       "1  2016-01-08T00:00:00-05:00  2016-01-22T00:00:00-05:00  0       0  0  0  0   \n",
       "2  2015-03-01T00:00:00-05:00  2015-04-01T00:00:00-05:00  0       0  0  0  0   \n",
       "3  2015-01-01T00:00:00-05:00  2015-02-01T00:00:00-05:00  0       0  0  0  0   \n",
       "4  2016-04-05T00:00:00-05:00  2016-04-14T00:00:00-05:00  0       0  0  0  0   \n",
       "\n",
       "   4  5  6  \n",
       "0  0  0  0  \n",
       "1  0  0  0  \n",
       "2  0  0  0  \n",
       "3  0  0  0  \n",
       "4  0  0  0  "
      ]
     },
     "execution_count": 68,
     "metadata": {},
     "output_type": "execute_result"
    }
   ],
   "source": [
    "trials.head()"
   ]
  },
  {
   "cell_type": "code",
   "execution_count": null,
   "metadata": {
    "collapsed": true
   },
   "outputs": [],
   "source": []
  }
 ],
 "metadata": {
  "anaconda-cloud": {},
  "kernelspec": {
   "display_name": "Python [default]",
   "language": "python",
   "name": "python2"
  },
  "language_info": {
   "codemirror_mode": {
    "name": "ipython",
    "version": 2
   },
   "file_extension": ".py",
   "mimetype": "text/x-python",
   "name": "python",
   "nbconvert_exporter": "python",
   "pygments_lexer": "ipython2",
   "version": "2.7.12"
  }
 },
 "nbformat": 4,
 "nbformat_minor": 1
}
