{
 "cells": [
  {
   "cell_type": "code",
   "execution_count": 21,
   "metadata": {
    "collapsed": true
   },
   "outputs": [],
   "source": [
    "import pandas as pd\n",
    "from datetime import timedelta\n",
    "import numpy as np\n",
    "import time\n",
    "import datetime\n",
    "import math\n",
    "import warnings\n",
    "import glob\n",
    "import sys\n",
    "from itertools import permutations\n",
    "from itertools import combinations_with_replacement"
   ]
  },
  {
   "cell_type": "code",
   "execution_count": 22,
   "metadata": {
    "collapsed": false
   },
   "outputs": [],
   "source": [
    "flow = pd.read_csv(\"./flow.tsv\", header=None, sep='\\t')\n",
    "prob = pd.read_csv(\"./prob.tsv\",sep=\"\\t\",header=None)"
   ]
  },
  {
   "cell_type": "code",
   "execution_count": 23,
   "metadata": {
    "collapsed": false
   },
   "outputs": [],
   "source": [
    "flowd = flow.as_matrix()\n",
    "probd = prob.as_matrix()\n",
    "\n",
    "flowd[np.where(np.isnan(flowd))] = np.take(np.nansum((flowd*(probd/np.nansum(probd, axis=1)[:,None])), axis=1), np.where(np.isnan(flowd))[0], axis=0)\n",
    "probd[np.where(np.isnan(probd))] = np.take(np.nanmean(probd, axis=1), np.where(np.isnan(probd))[0], axis=0)\n",
    "\n",
    "flowDF = pd.DataFrame(np.ceil(flowd).astype(int))\n",
    "probDF = pd.DataFrame(probd)"
   ]
  },
  {
   "cell_type": "code",
   "execution_count": 24,
   "metadata": {
    "collapsed": false
   },
   "outputs": [
    {
     "data": {
      "text/html": [
       "<div>\n",
       "<table border=\"1\" class=\"dataframe\">\n",
       "  <thead>\n",
       "    <tr style=\"text-align: right;\">\n",
       "      <th></th>\n",
       "      <th>0</th>\n",
       "      <th>1</th>\n",
       "      <th>2</th>\n",
       "      <th>3</th>\n",
       "    </tr>\n",
       "  </thead>\n",
       "  <tbody>\n",
       "    <tr>\n",
       "      <th>0</th>\n",
       "      <td>36</td>\n",
       "      <td>16</td>\n",
       "      <td>28</td>\n",
       "      <td>47</td>\n",
       "    </tr>\n",
       "    <tr>\n",
       "      <th>1</th>\n",
       "      <td>35</td>\n",
       "      <td>15</td>\n",
       "      <td>29</td>\n",
       "      <td>35</td>\n",
       "    </tr>\n",
       "    <tr>\n",
       "      <th>2</th>\n",
       "      <td>29</td>\n",
       "      <td>23</td>\n",
       "      <td>28</td>\n",
       "      <td>43</td>\n",
       "    </tr>\n",
       "    <tr>\n",
       "      <th>3</th>\n",
       "      <td>25</td>\n",
       "      <td>5</td>\n",
       "      <td>24</td>\n",
       "      <td>26</td>\n",
       "    </tr>\n",
       "    <tr>\n",
       "      <th>4</th>\n",
       "      <td>31</td>\n",
       "      <td>15</td>\n",
       "      <td>25</td>\n",
       "      <td>37</td>\n",
       "    </tr>\n",
       "  </tbody>\n",
       "</table>\n",
       "</div>"
      ],
      "text/plain": [
       "    0   1   2   3\n",
       "0  36  16  28  47\n",
       "1  35  15  29  35\n",
       "2  29  23  28  43\n",
       "3  25   5  24  26\n",
       "4  31  15  25  37"
      ]
     },
     "execution_count": 24,
     "metadata": {},
     "output_type": "execute_result"
    }
   ],
   "source": [
    "flowDF.head()\n"
   ]
  },
  {
   "cell_type": "markdown",
   "metadata": {},
   "source": [
    "### Method 3"
   ]
  },
  {
   "cell_type": "code",
   "execution_count": 25,
   "metadata": {
    "collapsed": true
   },
   "outputs": [],
   "source": [
    "pflow3 = flowDF.copy(deep=True)\n",
    "pprob3 = probDF.copy(deep=True)\n",
    "pflow3.columns = [str('flowD%s' % i) for i in range(pflow3.shape[1])]\n",
    "pprob3.columns = [str('probD%s' % i) for i in range(pprob3.shape[1])]"
   ]
  },
  {
   "cell_type": "markdown",
   "metadata": {},
   "source": [
    "### Method 1"
   ]
  },
  {
   "cell_type": "code",
   "execution_count": 26,
   "metadata": {
    "collapsed": true
   },
   "outputs": [],
   "source": [
    "from sklearn.cross_validation import train_test_split\n",
    "from sklearn import linear_model\n",
    "reg = linear_model.LinearRegression()\n",
    "\n",
    "flowD = flowDF.copy(deep=True)\n",
    "probD = probDF.copy(deep=True)"
   ]
  },
  {
   "cell_type": "code",
   "execution_count": 27,
   "metadata": {
    "collapsed": false
   },
   "outputs": [],
   "source": [
    "if(not flowD.shape[1]<2):\n",
    "    for i in range(flowD.shape[1]):\n",
    "        features = flowD.drop(i ,axis=1).as_matrix()\n",
    "        target = flowD.as_matrix(columns=[i])\n",
    "        reg.fit(features, target)\n",
    "        locals()['pred%s' % i] = reg.predict(features)\n",
    "        \n",
    "    pflow1 = pd.DataFrame(index=range(len(flowD)))\n",
    "    for i in range(flowD.shape[1]):\n",
    "        pflow1[i] = pd.DataFrame(np.ceil(locals()['pred%s' % i]).astype(int))\n",
    "\n",
    "    pprob1 = pd.DataFrame(index=range(len(prob)))\n",
    "    for i in range(prob.shape[1]):\n",
    "        feat = prob.drop(i ,axis=1)\n",
    "        pprob1[i] = feat.mean(axis=1)\n",
    "\n",
    "    pflow1.columns = [str('flowD%s' % i) for i in range(flowD.shape[1])]\n",
    "    pprob1.columns = [str('probD%s' % i) for i in range(probD.shape[1])]\n",
    "    \n",
    "else:\n",
    "    pflow1 = pd.DataFrame(np.zeros(len(flowD)).astype(int))\n",
    "    pprob1 = pd.DataFrame(np.zeros(len(flowD)).astype(int))"
   ]
  },
  {
   "cell_type": "markdown",
   "metadata": {},
   "source": [
    "### Method 2"
   ]
  },
  {
   "cell_type": "code",
   "execution_count": 28,
   "metadata": {
    "collapsed": true
   },
   "outputs": [],
   "source": [
    "flowD = flowDF.copy(deep=True)\n",
    "probD = probDF.copy(deep=True)\n",
    "\n",
    "timestampD = pd.read_csv(\"./timestamp.tsv\", header=None, sep='\\t')\n",
    "timestampD[0] =  pd.to_datetime(timestampD[0], format='%Y-%m-%dT%H:%M:%S')\n",
    "timestampD.fillna(pd.DataFrame(index=range(1)), inplace=True)"
   ]
  },
  {
   "cell_type": "code",
   "execution_count": 29,
   "metadata": {
    "collapsed": true
   },
   "outputs": [],
   "source": [
    "flowA = pd.DataFrame(np.zeros(shape=(1,flowD.shape[1])).astype(int)).append(flowD, ignore_index=True)\n",
    "flowA = flowA.drop(flowA.index[[len(flowA)-1]])\n",
    "flowB = flowD[1:len(flowD)].reset_index().drop('index',1)\n",
    "flowB.loc[len(flowB)] = 0\n",
    "flowD.columns = [str('flowD%s' % i) for i in range(flowD.shape[1])]\n",
    "flowA.columns = [str('flowA%s' % i) for i in range(flowA.shape[1])]\n",
    "flowB.columns = [str('flowB%s' % i) for i in range(flowB.shape[1])]\n",
    "flowdf = pd.concat([flowD,flowA,flowB], axis=1)"
   ]
  },
  {
   "cell_type": "code",
   "execution_count": 30,
   "metadata": {
    "collapsed": true
   },
   "outputs": [],
   "source": [
    "probA = pd.DataFrame(np.zeros(shape=(1,probD.shape[1])).astype(int)).append(probD, ignore_index=True)\n",
    "probA = probA.drop(probA.index[[len(probA)-1]])\n",
    "probB = probD[1:len(probD)].reset_index().drop('index',1)\n",
    "probB.loc[len(probB)] = 0\n",
    "probD.columns = [str('probD%s' % i) for i in range(probD.shape[1])]\n",
    "probA.columns = [str('probA%s' % i) for i in range(probA.shape[1])]\n",
    "probB.columns = [str('probB%s' % i) for i in range(probB.shape[1])]\n",
    "probdf = pd.concat([probD,probA,probB], axis=1)"
   ]
  },
  {
   "cell_type": "code",
   "execution_count": 31,
   "metadata": {
    "collapsed": true
   },
   "outputs": [],
   "source": [
    "timedf = pd.DataFrame(index=range(1))\n",
    "timedf[0] = pd.to_datetime(np.zeros(1).astype(int)[0])\n",
    "timestampA = timedf.append(timestampD, ignore_index=True)\n",
    "timestampA = timestampA.drop(timestampA.index[[len(timestampA)-1]])\n",
    "timestampB = timestampD[1:len(timestampD)].reset_index().drop('index',1)\n",
    "timestampB.loc[len(timestampB)] = timedf\n",
    "timestampD.columns = [str('timeD')]\n",
    "timestampA.columns = [str('timeA')]\n",
    "timestampB.columns = [str('timeB')]\n",
    "timestampD['timePre'] = (timestampD['timeD']-timestampA['timeA'])<timedelta(minutes=10)\n",
    "timestampD['timeNext'] = (timestampB['timeB']-timestampD['timeD'])<timedelta(minutes=10)\n",
    "timestampD = pd.concat([timestampD,flowdf,probdf], axis=1)\n",
    "timestamp = timestampD.groupby(['timePre', 'timeNext'])"
   ]
  },
  {
   "cell_type": "code",
   "execution_count": 32,
   "metadata": {
    "collapsed": false
   },
   "outputs": [],
   "source": [
    "start_time = time.time()\n",
    "for group, i in zip(timestamp.groups, range(len(timestamp.groups))):\n",
    "    locals()['result%s' % i] = timestamp.get_group(group)\n",
    "    df = timestamp.get_group(group)\n",
    "\n",
    "    if group == (True, True):\n",
    "        for flA, flB, prA, prB, j in zip(flowA.columns, flowB.columns, probA.columns, probB.columns, range(flowD.shape[1])):\n",
    "            fl = df[flA].multiply(df[prA]/(df[prA]+df[prB] + 1))\\\n",
    "            .add(df[flB].multiply(1-(df[prA]/(df[prA]+df[prB] + 1))))\n",
    "            locals()['result%s' % i][str('flow%s' % j)] = np.ceil(fl).astype(int)\n",
    "            locals()['result%s' % i][str('prob%s' % j)] = df[[prA, prB]].min(axis=1)\n",
    "            \n",
    "    if group == (True, False):\n",
    "        for flA, prA, j in zip(flowA.columns, probA.columns, range(flowD.shape[1])):\n",
    "            locals()['result%s' % i][str('flow%s' % j)] = df[flA]\n",
    "            locals()['result%s' % i][str('prob%s' % j)] = df[prA]\n",
    "            \n",
    "    if group == (False, True):\n",
    "        for flB, prB, j in zip(flowB.columns, probB.columns, range(flowD.shape[1])):\n",
    "            locals()['result%s' % i][str('flow%s' % j)] = df[flB]\n",
    "            locals()['result%s' % i][str('prob%s' % j)] = df[prB]\n",
    "            \n",
    "    if group == (False, False):\n",
    "        for flD, prD, j in zip(flowD.columns, probD.columns, range(flowD.shape[1])):\n",
    "            locals()['result%s' % i][str('flow%s' % j)] = df[flD]\n",
    "            locals()['result%s' % i][str('prob%s' % j)] = df[prD]\n",
    "            "
   ]
  },
  {
   "cell_type": "code",
   "execution_count": 33,
   "metadata": {
    "collapsed": false
   },
   "outputs": [],
   "source": [
    "for j in range(4):\n",
    "    locals()['result%s' % j] = locals()['result%s' % j][[str('flow%s' % i) for i in range(flowD.shape[1])] + [str('prob%s' % i) for i in range(probD.shape[1])]]\n",
    "    \n",
    "for i in reversed(range(3)):\n",
    "    locals()['result%s' % 3] = locals()['result%s' % 3].append(locals()['result%s' % i])\n",
    "    "
   ]
  },
  {
   "cell_type": "code",
   "execution_count": 34,
   "metadata": {
    "collapsed": false
   },
   "outputs": [],
   "source": [
    "start_time = time.time()\n",
    "locals()['result%s' % 3].sort_index(inplace=True)"
   ]
  },
  {
   "cell_type": "code",
   "execution_count": 35,
   "metadata": {
    "collapsed": true
   },
   "outputs": [],
   "source": [
    "predicted = pd.concat([locals()['result%s' % 3]], axis=0)\n",
    "pflow2 = predicted[[str('flow%s' % i) for i in range(flowD.shape[1])]]\n",
    "pprob2 = predicted[[str('prob%s' % i) for i in range(probD.shape[1])]]"
   ]
  },
  {
   "cell_type": "markdown",
   "metadata": {},
   "source": [
    "### Merged Flow"
   ]
  },
  {
   "cell_type": "code",
   "execution_count": 36,
   "metadata": {
    "collapsed": false
   },
   "outputs": [],
   "source": [
    "f1 = pflow1.as_matrix()\n",
    "f2 = pflow2.as_matrix()\n",
    "f3 = pflow3.as_matrix()\n",
    "\n",
    "p1 = pprob1.as_matrix()\n",
    "p2 = pprob2.as_matrix()\n",
    "p3 = pprob3.as_matrix()\n",
    "\n",
    "w1 = np.nan_to_num(p1/(p1+p2+p3))\n",
    "w2 = np.nan_to_num(p2/(p1+p2+p3))\n",
    "w3 = np.nan_to_num(p3/(p1+p2+p3))"
   ]
  },
  {
   "cell_type": "code",
   "execution_count": 37,
   "metadata": {
    "collapsed": false
   },
   "outputs": [],
   "source": [
    "mergeFinal = w1*f1 + w2*f2 + w3*f3\n",
    "mergeFinalDF = pd.DataFrame(np.ceil(mergeFinal).astype(int))"
   ]
  },
  {
   "cell_type": "code",
   "execution_count": 38,
   "metadata": {
    "collapsed": true
   },
   "outputs": [],
   "source": [
    "nandDF = flow[flow.isnull().values]"
   ]
  },
  {
   "cell_type": "code",
   "execution_count": 39,
   "metadata": {
    "collapsed": false
   },
   "outputs": [],
   "source": [
    "for col in flow.columns:\n",
    "    index = nandDF[nandDF[col].isnull().values][col].index\n",
    "    mergeFinalDF.set_value(index, col, '\\t')"
   ]
  },
  {
   "cell_type": "code",
   "execution_count": 40,
   "metadata": {
    "collapsed": false
   },
   "outputs": [],
   "source": [
    "mergeFinalDF.to_csv(\"3445.flow.txt\", sep='\\t', header=False, index=False)"
   ]
  }
 ],
 "metadata": {
  "anaconda-cloud": {},
  "kernelspec": {
   "display_name": "Python [default]",
   "language": "python",
   "name": "python2"
  },
  "language_info": {
   "codemirror_mode": {
    "name": "ipython",
    "version": 2
   },
   "file_extension": ".py",
   "mimetype": "text/x-python",
   "name": "python",
   "nbconvert_exporter": "python",
   "pygments_lexer": "ipython2",
   "version": "2.7.12"
  }
 },
 "nbformat": 4,
 "nbformat_minor": 0
}
