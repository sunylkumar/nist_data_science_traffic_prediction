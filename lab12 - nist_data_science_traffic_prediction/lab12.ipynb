{
 "cells": [
  {
   "cell_type": "code",
   "execution_count": 173,
   "metadata": {
    "collapsed": false
   },
   "outputs": [],
   "source": [
    "import pandas as pd\n",
    "import numpy as np\n",
    "import time\n",
    "import datetime\n",
    "import math"
   ]
  },
  {
   "cell_type": "code",
   "execution_count": 2,
   "metadata": {
    "collapsed": false
   },
   "outputs": [],
   "source": [
    "zone = pd.DataFrame.from_csv(\"detector_lane_inventory.tsv\", sep=\"\\t\")"
   ]
  },
  {
   "cell_type": "code",
   "execution_count": 403,
   "metadata": {
    "collapsed": true
   },
   "outputs": [],
   "source": [
    "event = pd.read_csv('trafficConditions.csv').drop(['Unnamed: 0'], axis=1)"
   ]
  },
  {
   "cell_type": "code",
   "execution_count": 331,
   "metadata": {
    "collapsed": false
   },
   "outputs": [
    {
     "data": {
      "text/html": [
       "<div>\n",
       "<table border=\"1\" class=\"dataframe\">\n",
       "  <thead>\n",
       "    <tr style=\"text-align: right;\">\n",
       "      <th></th>\n",
       "      <th>2003</th>\n",
       "      <th>2004</th>\n",
       "      <th>2005</th>\n",
       "      <th>2006</th>\n",
       "      <th>2007</th>\n",
       "      <th>2008</th>\n",
       "      <th>2009</th>\n",
       "      <th>2010</th>\n",
       "      <th>2011</th>\n",
       "      <th>2012</th>\n",
       "      <th>2013</th>\n",
       "      <th>2014</th>\n",
       "    </tr>\n",
       "  </thead>\n",
       "  <tbody>\n",
       "    <tr>\n",
       "      <th>0</th>\n",
       "      <td>0</td>\n",
       "      <td>0</td>\n",
       "      <td>0</td>\n",
       "      <td>0</td>\n",
       "      <td>0</td>\n",
       "      <td>0</td>\n",
       "      <td>0</td>\n",
       "      <td>0</td>\n",
       "      <td>3</td>\n",
       "      <td>5</td>\n",
       "      <td>7</td>\n",
       "      <td>9</td>\n",
       "    </tr>\n",
       "    <tr>\n",
       "      <th>1</th>\n",
       "      <td>0</td>\n",
       "      <td>0</td>\n",
       "      <td>0</td>\n",
       "      <td>0</td>\n",
       "      <td>0</td>\n",
       "      <td>0</td>\n",
       "      <td>0</td>\n",
       "      <td>0</td>\n",
       "      <td>0</td>\n",
       "      <td>0</td>\n",
       "      <td>5</td>\n",
       "      <td>3</td>\n",
       "    </tr>\n",
       "    <tr>\n",
       "      <th>2</th>\n",
       "      <td>0</td>\n",
       "      <td>0</td>\n",
       "      <td>0</td>\n",
       "      <td>0</td>\n",
       "      <td>0</td>\n",
       "      <td>0</td>\n",
       "      <td>0</td>\n",
       "      <td>0</td>\n",
       "      <td>0</td>\n",
       "      <td>0</td>\n",
       "      <td>0</td>\n",
       "      <td>0</td>\n",
       "    </tr>\n",
       "    <tr>\n",
       "      <th>3</th>\n",
       "      <td>0</td>\n",
       "      <td>0</td>\n",
       "      <td>0</td>\n",
       "      <td>0</td>\n",
       "      <td>0</td>\n",
       "      <td>0</td>\n",
       "      <td>0</td>\n",
       "      <td>0</td>\n",
       "      <td>0</td>\n",
       "      <td>0</td>\n",
       "      <td>0</td>\n",
       "      <td>0</td>\n",
       "    </tr>\n",
       "    <tr>\n",
       "      <th>4</th>\n",
       "      <td>0</td>\n",
       "      <td>0</td>\n",
       "      <td>0</td>\n",
       "      <td>0</td>\n",
       "      <td>0</td>\n",
       "      <td>0</td>\n",
       "      <td>0</td>\n",
       "      <td>0</td>\n",
       "      <td>0</td>\n",
       "      <td>0</td>\n",
       "      <td>0</td>\n",
       "      <td>1</td>\n",
       "    </tr>\n",
       "  </tbody>\n",
       "</table>\n",
       "</div>"
      ],
      "text/plain": [
       "   2003  2004  2005  2006  2007  2008  2009  2010  2011  2012  2013  2014\n",
       "0     0     0     0     0     0     0     0     0     3     5     7     9\n",
       "1     0     0     0     0     0     0     0     0     0     0     5     3\n",
       "2     0     0     0     0     0     0     0     0     0     0     0     0\n",
       "3     0     0     0     0     0     0     0     0     0     0     0     0\n",
       "4     0     0     0     0     0     0     0     0     0     0     0     1"
      ]
     },
     "execution_count": 331,
     "metadata": {},
     "output_type": "execute_result"
    }
   ],
   "source": [
    "event.head()"
   ]
  },
  {
   "cell_type": "code",
   "execution_count": 5,
   "metadata": {
    "collapsed": false
   },
   "outputs": [],
   "source": [
    "sampleZone = zone[(zone['zone_id'] == 1160) | (zone['zone_id'] == 3232) | (zone['zone_id'] == 3445) | (zone['zone_id'] == 3451) | (zone['zone_id'] == 3532)].reset_index()"
   ]
  },
  {
   "cell_type": "code",
   "execution_count": 6,
   "metadata": {
    "collapsed": false
   },
   "outputs": [],
   "source": [
    "zonedf = sampleZone[['lane_id','zone_id','longitude', 'latitude']]"
   ]
  },
  {
   "cell_type": "code",
   "execution_count": 7,
   "metadata": {
    "collapsed": false
   },
   "outputs": [
    {
     "data": {
      "text/html": [
       "<div>\n",
       "<table border=\"1\" class=\"dataframe\">\n",
       "  <thead>\n",
       "    <tr style=\"text-align: right;\">\n",
       "      <th></th>\n",
       "      <th>lane_id</th>\n",
       "      <th>zone_id</th>\n",
       "      <th>longitude</th>\n",
       "      <th>latitude</th>\n",
       "    </tr>\n",
       "  </thead>\n",
       "  <tbody>\n",
       "    <tr>\n",
       "      <th>0</th>\n",
       "      <td>490</td>\n",
       "      <td>1160</td>\n",
       "      <td>-77.446079</td>\n",
       "      <td>38.838402</td>\n",
       "    </tr>\n",
       "    <tr>\n",
       "      <th>1</th>\n",
       "      <td>491</td>\n",
       "      <td>1160</td>\n",
       "      <td>-77.446113</td>\n",
       "      <td>38.838421</td>\n",
       "    </tr>\n",
       "  </tbody>\n",
       "</table>\n",
       "</div>"
      ],
      "text/plain": [
       "   lane_id  zone_id  longitude   latitude\n",
       "0      490     1160 -77.446079  38.838402\n",
       "1      491     1160 -77.446113  38.838421"
      ]
     },
     "execution_count": 7,
     "metadata": {},
     "output_type": "execute_result"
    }
   ],
   "source": [
    "zonedf.head(2)"
   ]
  },
  {
   "cell_type": "code",
   "execution_count": 8,
   "metadata": {
    "collapsed": true
   },
   "outputs": [],
   "source": [
    "trials = pd.read_csv('prediction_trials.tsv', header=0, sep='\\t')\n"
   ]
  },
  {
   "cell_type": "code",
   "execution_count": 9,
   "metadata": {
    "collapsed": false
   },
   "outputs": [
    {
     "data": {
      "text/html": [
       "<div>\n",
       "<table border=\"1\" class=\"dataframe\">\n",
       "  <thead>\n",
       "    <tr style=\"text-align: right;\">\n",
       "      <th></th>\n",
       "      <th>trial_id</th>\n",
       "      <th>nw_lat</th>\n",
       "      <th>nw_lon</th>\n",
       "      <th>se_lat</th>\n",
       "      <th>se_lon</th>\n",
       "      <th>start</th>\n",
       "      <th>end</th>\n",
       "    </tr>\n",
       "  </thead>\n",
       "  <tbody>\n",
       "    <tr>\n",
       "      <th>0</th>\n",
       "      <td>p_00000001</td>\n",
       "      <td>39.182985</td>\n",
       "      <td>-76.798663</td>\n",
       "      <td>39.170238</td>\n",
       "      <td>-76.778150</td>\n",
       "      <td>2015-02-01T00:00:00-05:00</td>\n",
       "      <td>2015-03-01T00:00:00-05:00</td>\n",
       "    </tr>\n",
       "    <tr>\n",
       "      <th>1</th>\n",
       "      <td>p_00000002</td>\n",
       "      <td>39.303607</td>\n",
       "      <td>-76.829335</td>\n",
       "      <td>39.296709</td>\n",
       "      <td>-76.806935</td>\n",
       "      <td>2016-01-08T00:00:00-05:00</td>\n",
       "      <td>2016-01-22T00:00:00-05:00</td>\n",
       "    </tr>\n",
       "  </tbody>\n",
       "</table>\n",
       "</div>"
      ],
      "text/plain": [
       "     trial_id     nw_lat     nw_lon     se_lat     se_lon  \\\n",
       "0  p_00000001  39.182985 -76.798663  39.170238 -76.778150   \n",
       "1  p_00000002  39.303607 -76.829335  39.296709 -76.806935   \n",
       "\n",
       "                       start                        end  \n",
       "0  2015-02-01T00:00:00-05:00  2015-03-01T00:00:00-05:00  \n",
       "1  2016-01-08T00:00:00-05:00  2016-01-22T00:00:00-05:00  "
      ]
     },
     "execution_count": 9,
     "metadata": {},
     "output_type": "execute_result"
    }
   ],
   "source": [
    "trials.head(2)"
   ]
  },
  {
   "cell_type": "code",
   "execution_count": 10,
   "metadata": {
    "collapsed": true
   },
   "outputs": [],
   "source": [
    "mypoint = zonedf.as_matrix()\n",
    "pts = mypoint[:, [2, 3]]"
   ]
  },
  {
   "cell_type": "code",
   "execution_count": 11,
   "metadata": {
    "collapsed": false
   },
   "outputs": [
    {
     "name": "stdout",
     "output_type": "stream",
     "text": [
      "--- 195.1862461566925 seconds ---\n"
     ]
    }
   ],
   "source": [
    "start_time = time.time()\n",
    "\n",
    "ss = []\n",
    "\n",
    "for tin in range(len(trials)):\n",
    "    \n",
    "    x1, x2 = trials.loc[tin]['nw_lon'], trials.loc[tin]['se_lon']\n",
    "    y1, y2 = trials.loc[tin]['se_lat'], trials.loc[tin]['nw_lat']\n",
    "\n",
    "\n",
    "    ll = np.array([x1, y1])  # lower-left\n",
    "    ur = np.array([x2, y2])  # upper-right\n",
    "\n",
    "    inidx = np.all(np.logical_and(ll <= pts, pts <= ur), axis=1)\n",
    "    #inbox = pts[inidx]\n",
    "    pos = np.where(inidx==True)\n",
    "    if(len(pos[0]) > 0):\n",
    "        #print mypoint[pos]\n",
    "        ss.append((tin, mypoint[pos][0][1]))\n",
    "    \n",
    "    \n",
    "print(\"--- %s seconds ---\" % (time.time() - start_time))"
   ]
  },
  {
   "cell_type": "code",
   "execution_count": 408,
   "metadata": {
    "collapsed": true
   },
   "outputs": [],
   "source": [
    "sampleZone = pd.DataFrame(index=range(len(ss)))"
   ]
  },
  {
   "cell_type": "code",
   "execution_count": 409,
   "metadata": {
    "collapsed": false
   },
   "outputs": [],
   "source": [
    "sampleZone['zoneid'] = pd.DataFrame.from_dict(ss)[1].astype(int)"
   ]
  },
  {
   "cell_type": "code",
   "execution_count": 410,
   "metadata": {
    "collapsed": false
   },
   "outputs": [],
   "source": [
    "sampleTrial = trials.iloc[pd.DataFrame.from_dict(ss)[0].tolist(),:].reset_index()\n",
    "sampleEvent = event.iloc[pd.DataFrame.from_dict(ss)[0].tolist(),:].reset_index()"
   ]
  },
  {
   "cell_type": "code",
   "execution_count": 407,
   "metadata": {
    "collapsed": false
   },
   "outputs": [],
   "source": [
    "sampleTrial.to_csv('sampleTrial.csv')\n",
    "sampleEvent.to_csv('sampleEvent.csv')\n",
    "sampleZone.to_csv('sampleZone.csv')"
   ]
  },
  {
   "cell_type": "code",
   "execution_count": 312,
   "metadata": {
    "collapsed": true
   },
   "outputs": [],
   "source": [
    "sampleTrial = pd.read_csv('sampleTrial.csv').drop(['Unnamed: 0'], axis=1)\n",
    "sampleEvent = pd.read_csv('sampleEvent.csv').drop(['Unnamed: 0'], axis=1)\n",
    "sampleZone = pd.read_csv('sampleZone.csv').drop(['Unnamed: 0'], axis=1)"
   ]
  },
  {
   "cell_type": "code",
   "execution_count": null,
   "metadata": {
    "collapsed": false
   },
   "outputs": [],
   "source": []
  },
  {
   "cell_type": "code",
   "execution_count": 411,
   "metadata": {
    "collapsed": true
   },
   "outputs": [],
   "source": [
    "z3232 = pd.DataFrame.from_csv('3232.txt', sep=\"\\t\").reset_index()\n",
    "z3232['year'] = z3232['year'].astype(str).str[:4].astype(int)"
   ]
  },
  {
   "cell_type": "code",
   "execution_count": 412,
   "metadata": {
    "collapsed": true
   },
   "outputs": [],
   "source": [
    "z3445= pd.DataFrame.from_csv('3445.txt', sep=\"\\t\").reset_index()\n",
    "z3445['year'] = z3445['year'].astype(str).str[:4].astype(int)"
   ]
  },
  {
   "cell_type": "code",
   "execution_count": 413,
   "metadata": {
    "collapsed": false
   },
   "outputs": [],
   "source": [
    "z3451 = pd.DataFrame.from_csv('3451.txt', sep=\"\\t\").reset_index()\n",
    "z3451['year'] = z3451['year'].astype(str).str[:4].astype(int)"
   ]
  },
  {
   "cell_type": "code",
   "execution_count": 414,
   "metadata": {
    "collapsed": true
   },
   "outputs": [],
   "source": [
    "z3451 = pd.concat([z3451, pd.DataFrame(z3451.mean()).T, pd.DataFrame(z3451.mean()).T])\\\n",
    ".reset_index().drop('index', axis=1)"
   ]
  },
  {
   "cell_type": "code",
   "execution_count": 415,
   "metadata": {
    "collapsed": false
   },
   "outputs": [],
   "source": [
    "z3451['year'].iloc[6] = 2015\n",
    "z3451['year'].iloc[7] = 2016"
   ]
  },
  {
   "cell_type": "code",
   "execution_count": 416,
   "metadata": {
    "collapsed": false
   },
   "outputs": [],
   "source": [
    "z3532 = pd.DataFrame.from_csv('3532.txt', sep=\"\\t\").reset_index()\n",
    "z3532['year'] = z3532['year'].astype(str).str[:4].astype(int)"
   ]
  },
  {
   "cell_type": "code",
   "execution_count": 417,
   "metadata": {
    "collapsed": true
   },
   "outputs": [],
   "source": [
    "year = np.array([2003, 2004, 2005, 2006, 2007, 2008, 2009, 2010, 2011, 2012, 2013, 2014, 2015, 2016]).reshape(-1,1)\n",
    "event = sampleEvent.drop('index', axis=1).as_matrix()"
   ]
  },
  {
   "cell_type": "code",
   "execution_count": 418,
   "metadata": {
    "collapsed": false
   },
   "outputs": [],
   "source": [
    "eventmatrix = event[:, 0:11]\n",
    "event2014 = sampleEvent['2014'].as_matrix()"
   ]
  },
  {
   "cell_type": "code",
   "execution_count": 419,
   "metadata": {
    "collapsed": true
   },
   "outputs": [],
   "source": [
    "from sklearn.linear_model import Ridge"
   ]
  },
  {
   "cell_type": "code",
   "execution_count": 420,
   "metadata": {
    "collapsed": false
   },
   "outputs": [],
   "source": [
    "predict = []\n",
    "error = []\n",
    "\n",
    "for i in range(len(sampleTrial)):\n",
    "    if(sampleZone['zoneid'][i]==3232):\n",
    "        zoneMatrix = z3232.as_matrix()[:, :]\n",
    "    \n",
    "    if(sampleZone['zoneid'][i]==3445):\n",
    "        zoneMatrix = z3445.as_matrix()[:, :]\n",
    "        \n",
    "    if(sampleZone['zoneid'][i]==3451):\n",
    "        zoneMatrix = z3451.as_matrix()[:, :]\n",
    "        \n",
    "    if(sampleZone['zoneid'][i]==3532):\n",
    "        zoneMatrix = z3532.as_matrix()[:, :]\n",
    "        \n",
    "    features = np.concatenate((year, np.concatenate((np.zeros((6,3)), zoneMatrix[:,1:])) ), axis=1)\n",
    "    xtrain = features[:-3,:]\n",
    "    ytrain = eventmatrix[i]\n",
    "    xtest = features[-3:-2,:]\n",
    "    ytest = event2014[i]\n",
    "    \n",
    "    #if(np.count_nonzero(ytrain) > 5):\n",
    "        #clf = Ridge(alpha=15)\n",
    "    #else:\n",
    "    clf = Ridge(alpha=1)\n",
    "    \n",
    "    clf.fit(xtrain, ytrain)    \n",
    "    predict.append(clf.predict(xtest)[0])\n",
    "    error.append(((clf.predict(xtest)[0] - ytest) ** 2))\n",
    "    "
   ]
  },
  {
   "cell_type": "code",
   "execution_count": null,
   "metadata": {
    "collapsed": true
   },
   "outputs": [],
   "source": []
  },
  {
   "cell_type": "code",
   "execution_count": 327,
   "metadata": {
    "collapsed": false
   },
   "outputs": [
    {
     "data": {
      "text/plain": [
       "143.92830646202239"
      ]
     },
     "execution_count": 327,
     "metadata": {},
     "output_type": "execute_result"
    }
   ],
   "source": [
    "errA = np.sqrt(np.sum(error)/len(error))\n",
    "errA"
   ]
  },
  {
   "cell_type": "code",
   "execution_count": 353,
   "metadata": {
    "collapsed": false
   },
   "outputs": [
    {
     "data": {
      "text/plain": [
       "50.108215792420694"
      ]
     },
     "execution_count": 353,
     "metadata": {},
     "output_type": "execute_result"
    }
   ],
   "source": [
    "errD = np.sqrt(np.sum(error)/len(error))\n",
    "errD"
   ]
  },
  {
   "cell_type": "code",
   "execution_count": 368,
   "metadata": {
    "collapsed": false
   },
   "outputs": [
    {
     "data": {
      "text/plain": [
       "10.989780425778843"
      ]
     },
     "execution_count": 368,
     "metadata": {},
     "output_type": "execute_result"
    }
   ],
   "source": [
    "errO = np.sqrt(np.sum(error)/len(error))\n",
    "errO"
   ]
  },
  {
   "cell_type": "code",
   "execution_count": 387,
   "metadata": {
    "collapsed": false
   },
   "outputs": [
    {
     "data": {
      "text/plain": [
       "0.17648032380147063"
      ]
     },
     "execution_count": 387,
     "metadata": {},
     "output_type": "execute_result"
    }
   ],
   "source": [
    "errP = np.sqrt(np.sum(error)/len(error))\n",
    "errP"
   ]
  },
  {
   "cell_type": "code",
   "execution_count": 402,
   "metadata": {
    "collapsed": false
   },
   "outputs": [
    {
     "data": {
      "text/plain": [
       "21.252044399915214"
      ]
     },
     "execution_count": 402,
     "metadata": {},
     "output_type": "execute_result"
    }
   ],
   "source": [
    "errR = np.sqrt(np.sum(error)/len(error))\n",
    "errR"
   ]
  },
  {
   "cell_type": "code",
   "execution_count": 421,
   "metadata": {
    "collapsed": false
   },
   "outputs": [
    {
     "data": {
      "text/plain": [
       "2.3589082363499254"
      ]
     },
     "execution_count": 421,
     "metadata": {},
     "output_type": "execute_result"
    }
   ],
   "source": [
    "errT = np.sqrt(np.sum(error)/len(error))\n",
    "errT"
   ]
  },
  {
   "cell_type": "code",
   "execution_count": 422,
   "metadata": {
    "collapsed": false
   },
   "outputs": [
    {
     "data": {
      "text/plain": [
       "62.987050189279174"
      ]
     },
     "execution_count": 422,
     "metadata": {},
     "output_type": "execute_result"
    }
   ],
   "source": [
    "np.sqrt((errA**2 + errD**2 + errO**2 + errP**2 + errR**2 + errT**2)/6)"
   ]
  },
  {
   "cell_type": "code",
   "execution_count": null,
   "metadata": {
    "collapsed": true
   },
   "outputs": [],
   "source": [
    "np.sqrt((errA**2 + errD**2 + errO**2 + errP**2 + errR**2 + errT**2)/6)/12"
   ]
  },
  {
   "cell_type": "code",
   "execution_count": null,
   "metadata": {
    "collapsed": true
   },
   "outputs": [],
   "source": []
  }
 ],
 "metadata": {
  "anaconda-cloud": {},
  "kernelspec": {
   "display_name": "Python [conda root]",
   "language": "python",
   "name": "conda-root-py"
  },
  "language_info": {
   "codemirror_mode": {
    "name": "ipython",
    "version": 2
   },
   "file_extension": ".py",
   "mimetype": "text/x-python",
   "name": "python",
   "nbconvert_exporter": "python",
   "pygments_lexer": "ipython2",
   "version": "2.7.12"
  }
 },
 "nbformat": 4,
 "nbformat_minor": 1
}
