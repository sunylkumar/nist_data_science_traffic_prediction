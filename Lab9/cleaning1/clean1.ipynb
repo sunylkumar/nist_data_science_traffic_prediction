{
 "cells": [
  {
   "cell_type": "code",
   "execution_count": 1,
   "metadata": {
    "collapsed": true
   },
   "outputs": [],
   "source": [
    "import pandas as pd\n",
    "import numpy as np\n",
    "import math\n",
    "from scipy.stats import norm"
   ]
  },
  {
   "cell_type": "code",
   "execution_count": 45,
   "metadata": {
    "collapsed": true
   },
   "outputs": [],
   "source": [
    "import matplotlib.pyplot as plt\n",
    "%matplotlib inline"
   ]
  },
  {
   "cell_type": "code",
   "execution_count": 4,
   "metadata": {
    "collapsed": false
   },
   "outputs": [
    {
     "data": {
      "text/html": [
       "<div>\n",
       "<table border=\"1\" class=\"dataframe\">\n",
       "  <thead>\n",
       "    <tr style=\"text-align: right;\">\n",
       "      <th></th>\n",
       "      <th>0</th>\n",
       "    </tr>\n",
       "  </thead>\n",
       "  <tbody>\n",
       "    <tr>\n",
       "      <th>0</th>\n",
       "      <td>2006-09-01T00:00:07</td>\n",
       "    </tr>\n",
       "    <tr>\n",
       "      <th>1</th>\n",
       "      <td>2006-09-01T00:01:07</td>\n",
       "    </tr>\n",
       "    <tr>\n",
       "      <th>2</th>\n",
       "      <td>2006-09-01T00:02:07</td>\n",
       "    </tr>\n",
       "    <tr>\n",
       "      <th>3</th>\n",
       "      <td>2006-09-01T00:03:07</td>\n",
       "    </tr>\n",
       "    <tr>\n",
       "      <th>4</th>\n",
       "      <td>2006-09-01T00:04:07</td>\n",
       "    </tr>\n",
       "    <tr>\n",
       "      <th>5</th>\n",
       "      <td>2006-09-01T00:05:08</td>\n",
       "    </tr>\n",
       "    <tr>\n",
       "      <th>6</th>\n",
       "      <td>2006-09-01T00:06:08</td>\n",
       "    </tr>\n",
       "    <tr>\n",
       "      <th>7</th>\n",
       "      <td>2006-09-01T00:07:08</td>\n",
       "    </tr>\n",
       "    <tr>\n",
       "      <th>8</th>\n",
       "      <td>2006-09-01T00:08:08</td>\n",
       "    </tr>\n",
       "    <tr>\n",
       "      <th>9</th>\n",
       "      <td>2006-09-01T00:09:08</td>\n",
       "    </tr>\n",
       "    <tr>\n",
       "      <th>10</th>\n",
       "      <td>2006-09-01T00:10:08</td>\n",
       "    </tr>\n",
       "    <tr>\n",
       "      <th>11</th>\n",
       "      <td>2006-09-01T00:11:08</td>\n",
       "    </tr>\n",
       "    <tr>\n",
       "      <th>12</th>\n",
       "      <td>2006-09-01T00:12:09</td>\n",
       "    </tr>\n",
       "    <tr>\n",
       "      <th>13</th>\n",
       "      <td>2006-09-01T00:13:08</td>\n",
       "    </tr>\n",
       "    <tr>\n",
       "      <th>14</th>\n",
       "      <td>2006-09-01T00:14:09</td>\n",
       "    </tr>\n",
       "    <tr>\n",
       "      <th>15</th>\n",
       "      <td>2006-09-01T00:15:09</td>\n",
       "    </tr>\n",
       "    <tr>\n",
       "      <th>16</th>\n",
       "      <td>2006-09-01T00:16:09</td>\n",
       "    </tr>\n",
       "    <tr>\n",
       "      <th>17</th>\n",
       "      <td>2006-09-01T00:17:09</td>\n",
       "    </tr>\n",
       "    <tr>\n",
       "      <th>18</th>\n",
       "      <td>2006-09-01T00:18:09</td>\n",
       "    </tr>\n",
       "    <tr>\n",
       "      <th>19</th>\n",
       "      <td>2006-09-01T00:19:09</td>\n",
       "    </tr>\n",
       "    <tr>\n",
       "      <th>20</th>\n",
       "      <td>2006-09-01T00:20:09</td>\n",
       "    </tr>\n",
       "    <tr>\n",
       "      <th>21</th>\n",
       "      <td>2006-09-01T00:21:10</td>\n",
       "    </tr>\n",
       "    <tr>\n",
       "      <th>22</th>\n",
       "      <td>2006-09-01T00:22:10</td>\n",
       "    </tr>\n",
       "    <tr>\n",
       "      <th>23</th>\n",
       "      <td>2006-09-01T00:23:10</td>\n",
       "    </tr>\n",
       "    <tr>\n",
       "      <th>24</th>\n",
       "      <td>2006-09-01T00:24:10</td>\n",
       "    </tr>\n",
       "    <tr>\n",
       "      <th>25</th>\n",
       "      <td>2006-09-01T00:25:10</td>\n",
       "    </tr>\n",
       "    <tr>\n",
       "      <th>26</th>\n",
       "      <td>2006-09-01T00:26:10</td>\n",
       "    </tr>\n",
       "    <tr>\n",
       "      <th>27</th>\n",
       "      <td>2006-09-01T00:27:10</td>\n",
       "    </tr>\n",
       "    <tr>\n",
       "      <th>28</th>\n",
       "      <td>2006-09-01T00:28:11</td>\n",
       "    </tr>\n",
       "    <tr>\n",
       "      <th>29</th>\n",
       "      <td>2006-09-01T00:29:11</td>\n",
       "    </tr>\n",
       "    <tr>\n",
       "      <th>...</th>\n",
       "      <td>...</td>\n",
       "    </tr>\n",
       "    <tr>\n",
       "      <th>3775321</th>\n",
       "      <td>2014-12-31T23:30:14</td>\n",
       "    </tr>\n",
       "    <tr>\n",
       "      <th>3775322</th>\n",
       "      <td>2014-12-31T23:31:14</td>\n",
       "    </tr>\n",
       "    <tr>\n",
       "      <th>3775323</th>\n",
       "      <td>2014-12-31T23:32:14</td>\n",
       "    </tr>\n",
       "    <tr>\n",
       "      <th>3775324</th>\n",
       "      <td>2014-12-31T23:33:14</td>\n",
       "    </tr>\n",
       "    <tr>\n",
       "      <th>3775325</th>\n",
       "      <td>2014-12-31T23:34:14</td>\n",
       "    </tr>\n",
       "    <tr>\n",
       "      <th>3775326</th>\n",
       "      <td>2014-12-31T23:35:14</td>\n",
       "    </tr>\n",
       "    <tr>\n",
       "      <th>3775327</th>\n",
       "      <td>2014-12-31T23:36:14</td>\n",
       "    </tr>\n",
       "    <tr>\n",
       "      <th>3775328</th>\n",
       "      <td>2014-12-31T23:37:14</td>\n",
       "    </tr>\n",
       "    <tr>\n",
       "      <th>3775329</th>\n",
       "      <td>2014-12-31T23:38:14</td>\n",
       "    </tr>\n",
       "    <tr>\n",
       "      <th>3775330</th>\n",
       "      <td>2014-12-31T23:39:14</td>\n",
       "    </tr>\n",
       "    <tr>\n",
       "      <th>3775331</th>\n",
       "      <td>2014-12-31T23:40:14</td>\n",
       "    </tr>\n",
       "    <tr>\n",
       "      <th>3775332</th>\n",
       "      <td>2014-12-31T23:41:14</td>\n",
       "    </tr>\n",
       "    <tr>\n",
       "      <th>3775333</th>\n",
       "      <td>2014-12-31T23:42:14</td>\n",
       "    </tr>\n",
       "    <tr>\n",
       "      <th>3775334</th>\n",
       "      <td>2014-12-31T23:43:14</td>\n",
       "    </tr>\n",
       "    <tr>\n",
       "      <th>3775335</th>\n",
       "      <td>2014-12-31T23:44:14</td>\n",
       "    </tr>\n",
       "    <tr>\n",
       "      <th>3775336</th>\n",
       "      <td>2014-12-31T23:45:14</td>\n",
       "    </tr>\n",
       "    <tr>\n",
       "      <th>3775337</th>\n",
       "      <td>2014-12-31T23:46:14</td>\n",
       "    </tr>\n",
       "    <tr>\n",
       "      <th>3775338</th>\n",
       "      <td>2014-12-31T23:47:14</td>\n",
       "    </tr>\n",
       "    <tr>\n",
       "      <th>3775339</th>\n",
       "      <td>2014-12-31T23:48:14</td>\n",
       "    </tr>\n",
       "    <tr>\n",
       "      <th>3775340</th>\n",
       "      <td>2014-12-31T23:49:14</td>\n",
       "    </tr>\n",
       "    <tr>\n",
       "      <th>3775341</th>\n",
       "      <td>2014-12-31T23:50:14</td>\n",
       "    </tr>\n",
       "    <tr>\n",
       "      <th>3775342</th>\n",
       "      <td>2014-12-31T23:51:14</td>\n",
       "    </tr>\n",
       "    <tr>\n",
       "      <th>3775343</th>\n",
       "      <td>2014-12-31T23:52:14</td>\n",
       "    </tr>\n",
       "    <tr>\n",
       "      <th>3775344</th>\n",
       "      <td>2014-12-31T23:53:14</td>\n",
       "    </tr>\n",
       "    <tr>\n",
       "      <th>3775345</th>\n",
       "      <td>2014-12-31T23:54:14</td>\n",
       "    </tr>\n",
       "    <tr>\n",
       "      <th>3775346</th>\n",
       "      <td>2014-12-31T23:55:14</td>\n",
       "    </tr>\n",
       "    <tr>\n",
       "      <th>3775347</th>\n",
       "      <td>2014-12-31T23:56:14</td>\n",
       "    </tr>\n",
       "    <tr>\n",
       "      <th>3775348</th>\n",
       "      <td>2014-12-31T23:57:14</td>\n",
       "    </tr>\n",
       "    <tr>\n",
       "      <th>3775349</th>\n",
       "      <td>2014-12-31T23:58:14</td>\n",
       "    </tr>\n",
       "    <tr>\n",
       "      <th>3775350</th>\n",
       "      <td>2014-12-31T23:59:14</td>\n",
       "    </tr>\n",
       "  </tbody>\n",
       "</table>\n",
       "<p>3775351 rows × 1 columns</p>\n",
       "</div>"
      ],
      "text/plain": [
       "                           0\n",
       "0        2006-09-01T00:00:07\n",
       "1        2006-09-01T00:01:07\n",
       "2        2006-09-01T00:02:07\n",
       "3        2006-09-01T00:03:07\n",
       "4        2006-09-01T00:04:07\n",
       "5        2006-09-01T00:05:08\n",
       "6        2006-09-01T00:06:08\n",
       "7        2006-09-01T00:07:08\n",
       "8        2006-09-01T00:08:08\n",
       "9        2006-09-01T00:09:08\n",
       "10       2006-09-01T00:10:08\n",
       "11       2006-09-01T00:11:08\n",
       "12       2006-09-01T00:12:09\n",
       "13       2006-09-01T00:13:08\n",
       "14       2006-09-01T00:14:09\n",
       "15       2006-09-01T00:15:09\n",
       "16       2006-09-01T00:16:09\n",
       "17       2006-09-01T00:17:09\n",
       "18       2006-09-01T00:18:09\n",
       "19       2006-09-01T00:19:09\n",
       "20       2006-09-01T00:20:09\n",
       "21       2006-09-01T00:21:10\n",
       "22       2006-09-01T00:22:10\n",
       "23       2006-09-01T00:23:10\n",
       "24       2006-09-01T00:24:10\n",
       "25       2006-09-01T00:25:10\n",
       "26       2006-09-01T00:26:10\n",
       "27       2006-09-01T00:27:10\n",
       "28       2006-09-01T00:28:11\n",
       "29       2006-09-01T00:29:11\n",
       "...                      ...\n",
       "3775321  2014-12-31T23:30:14\n",
       "3775322  2014-12-31T23:31:14\n",
       "3775323  2014-12-31T23:32:14\n",
       "3775324  2014-12-31T23:33:14\n",
       "3775325  2014-12-31T23:34:14\n",
       "3775326  2014-12-31T23:35:14\n",
       "3775327  2014-12-31T23:36:14\n",
       "3775328  2014-12-31T23:37:14\n",
       "3775329  2014-12-31T23:38:14\n",
       "3775330  2014-12-31T23:39:14\n",
       "3775331  2014-12-31T23:40:14\n",
       "3775332  2014-12-31T23:41:14\n",
       "3775333  2014-12-31T23:42:14\n",
       "3775334  2014-12-31T23:43:14\n",
       "3775335  2014-12-31T23:44:14\n",
       "3775336  2014-12-31T23:45:14\n",
       "3775337  2014-12-31T23:46:14\n",
       "3775338  2014-12-31T23:47:14\n",
       "3775339  2014-12-31T23:48:14\n",
       "3775340  2014-12-31T23:49:14\n",
       "3775341  2014-12-31T23:50:14\n",
       "3775342  2014-12-31T23:51:14\n",
       "3775343  2014-12-31T23:52:14\n",
       "3775344  2014-12-31T23:53:14\n",
       "3775345  2014-12-31T23:54:14\n",
       "3775346  2014-12-31T23:55:14\n",
       "3775347  2014-12-31T23:56:14\n",
       "3775348  2014-12-31T23:57:14\n",
       "3775349  2014-12-31T23:58:14\n",
       "3775350  2014-12-31T23:59:14\n",
       "\n",
       "[3775351 rows x 1 columns]"
      ]
     },
     "execution_count": 4,
     "metadata": {},
     "output_type": "execute_result"
    }
   ],
   "source": [
    "pd.read_csv('timestamp.tsv', header=None, sep='\\t')"
   ]
  },
  {
   "cell_type": "code",
   "execution_count": 46,
   "metadata": {
    "collapsed": false
   },
   "outputs": [],
   "source": [
    "timestamp = pd.read_csv('timestamp.tsv', header=None, sep='\\t')\n",
    "flow = pd.read_csv('flow.tsv', header=None, sep='\\t')\n",
    "occupancy = pd.read_csv('occupancy.tsv', header=None, sep='\\t')\n",
    "speed = pd.read_csv('speed.tsv', header=None, sep='\\t')"
   ]
  },
  {
   "cell_type": "code",
   "execution_count": 47,
   "metadata": {
    "collapsed": false
   },
   "outputs": [],
   "source": [
    "fpd = pd.concat([flow[0], flow[1], flow[2]]).reset_index()[0]\n",
    "opd = pd.concat([occupancy[0], occupancy[1], occupancy[2]]).reset_index()[0]\n",
    "spd = pd.concat([speed[0], speed[1], speed[2]]).reset_index()[0]"
   ]
  },
  {
   "cell_type": "code",
   "execution_count": 48,
   "metadata": {
    "collapsed": false
   },
   "outputs": [],
   "source": [
    "mvpd = pd.concat([fpd,spd, opd], axis=1)\n",
    "mvpd.columns = ['flow', 'speed', 'occupancy']"
   ]
  },
  {
   "cell_type": "code",
   "execution_count": 49,
   "metadata": {
    "collapsed": false
   },
   "outputs": [],
   "source": [
    "mvpd = mvpd.dropna(how='any')"
   ]
  },
  {
   "cell_type": "code",
   "execution_count": 50,
   "metadata": {
    "collapsed": false
   },
   "outputs": [
    {
     "data": {
      "text/plain": [
       "11326053"
      ]
     },
     "execution_count": 50,
     "metadata": {},
     "output_type": "execute_result"
    }
   ],
   "source": [
    "len(mvpd)"
   ]
  },
  {
   "cell_type": "code",
   "execution_count": 51,
   "metadata": {
    "collapsed": false
   },
   "outputs": [
    {
     "data": {
      "text/plain": [
       "array([[  8.,  68.,   3.],\n",
       "       [  9.,  67.,   4.],\n",
       "       [ 11.,  66.,   4.],\n",
       "       ..., \n",
       "       [  3.,   0.,   0.],\n",
       "       [  3.,   0.,   0.],\n",
       "       [  5.,   0.,   0.]])"
      ]
     },
     "execution_count": 51,
     "metadata": {},
     "output_type": "execute_result"
    }
   ],
   "source": [
    "mv = mvpd.as_matrix(columns=None)\n",
    "mv"
   ]
  },
  {
   "cell_type": "code",
   "execution_count": 52,
   "metadata": {
    "collapsed": false
   },
   "outputs": [],
   "source": [
    "mvpd.to_csv('1160.txt', sep='\\t', encoding='utf-8',index=False)"
   ]
  },
  {
   "cell_type": "code",
   "execution_count": 60,
   "metadata": {
    "collapsed": false,
    "scrolled": true
   },
   "outputs": [
    {
     "data": {
      "text/html": [
       "<div>\n",
       "<table border=\"1\" class=\"dataframe\">\n",
       "  <thead>\n",
       "    <tr style=\"text-align: right;\">\n",
       "      <th></th>\n",
       "      <th>flow</th>\n",
       "      <th>speed</th>\n",
       "      <th>occupancy</th>\n",
       "    </tr>\n",
       "  </thead>\n",
       "  <tbody>\n",
       "    <tr>\n",
       "      <th>0</th>\n",
       "      <td>8</td>\n",
       "      <td>68.0</td>\n",
       "      <td>3.0</td>\n",
       "    </tr>\n",
       "    <tr>\n",
       "      <th>1</th>\n",
       "      <td>9</td>\n",
       "      <td>67.0</td>\n",
       "      <td>4.0</td>\n",
       "    </tr>\n",
       "    <tr>\n",
       "      <th>2</th>\n",
       "      <td>11</td>\n",
       "      <td>66.0</td>\n",
       "      <td>4.0</td>\n",
       "    </tr>\n",
       "    <tr>\n",
       "      <th>3</th>\n",
       "      <td>-8</td>\n",
       "      <td>71.0</td>\n",
       "      <td>3.0</td>\n",
       "    </tr>\n",
       "    <tr>\n",
       "      <th>4</th>\n",
       "      <td>5</td>\n",
       "      <td>65.0</td>\n",
       "      <td>2.0</td>\n",
       "    </tr>\n",
       "    <tr>\n",
       "      <th>5</th>\n",
       "      <td>7</td>\n",
       "      <td>66.0</td>\n",
       "      <td>2.0</td>\n",
       "    </tr>\n",
       "    <tr>\n",
       "      <th>6</th>\n",
       "      <td>6</td>\n",
       "      <td>66.0</td>\n",
       "      <td>2.0</td>\n",
       "    </tr>\n",
       "    <tr>\n",
       "      <th>7</th>\n",
       "      <td>0</td>\n",
       "      <td>65.0</td>\n",
       "      <td>0.0</td>\n",
       "    </tr>\n",
       "    <tr>\n",
       "      <th>8</th>\n",
       "      <td>10</td>\n",
       "      <td>68.0</td>\n",
       "      <td>4.0</td>\n",
       "    </tr>\n",
       "    <tr>\n",
       "      <th>9</th>\n",
       "      <td>7</td>\n",
       "      <td>79.0</td>\n",
       "      <td>3.0</td>\n",
       "    </tr>\n",
       "  </tbody>\n",
       "</table>\n",
       "</div>"
      ],
      "text/plain": [
       "   flow  speed  occupancy\n",
       "0     8   68.0        3.0\n",
       "1     9   67.0        4.0\n",
       "2    11   66.0        4.0\n",
       "3    -8   71.0        3.0\n",
       "4     5   65.0        2.0\n",
       "5     7   66.0        2.0\n",
       "6     6   66.0        2.0\n",
       "7     0   65.0        0.0\n",
       "8    10   68.0        4.0\n",
       "9     7   79.0        3.0"
      ]
     },
     "execution_count": 60,
     "metadata": {},
     "output_type": "execute_result"
    }
   ],
   "source": [
    "mvpd.head(10)"
   ]
  },
  {
   "cell_type": "code",
   "execution_count": 54,
   "metadata": {
    "collapsed": false
   },
   "outputs": [],
   "source": [
    "pdf = mvpd[((mvpd.flow > 0) & (mvpd.speed > 0) & (mvpd.occupancy >= 0) & (mvpd.occupancy <=100))\n",
    "                   | ((mvpd.flow == 0) & (mvpd.speed == 0) & (mvpd.occupancy == 0))\n",
    "                   | ((mvpd.flow == 0) & (mvpd.speed == 0) & (mvpd.occupancy ==100))]\n",
    "ndf = mvpd[~(((mvpd.flow > 0) & (mvpd.speed > 0) & (mvpd.occupancy >= 0) & (mvpd.occupancy <=100))\n",
    "                      | ((mvpd.flow == 0) & (mvpd.speed == 0) & (mvpd.occupancy == 0))\n",
    "                      | ((mvpd.flow == 0) & (mvpd.speed == 0) & (mvpd.occupancy ==100)))]\n"
   ]
  },
  {
   "cell_type": "code",
   "execution_count": 55,
   "metadata": {
    "collapsed": false
   },
   "outputs": [
    {
     "name": "stderr",
     "output_type": "stream",
     "text": [
      "C:\\Anaconda2\\lib\\site-packages\\ipykernel\\__main__.py:1: SettingWithCopyWarning: \n",
      "A value is trying to be set on a copy of a slice from a DataFrame.\n",
      "Try using .loc[row_indexer,col_indexer] = value instead\n",
      "\n",
      "See the caveats in the documentation: http://pandas.pydata.org/pandas-docs/stable/indexing.html#indexing-view-versus-copy\n",
      "  if __name__ == '__main__':\n"
     ]
    },
    {
     "data": {
      "text/html": [
       "<div>\n",
       "<table border=\"1\" class=\"dataframe\">\n",
       "  <thead>\n",
       "    <tr style=\"text-align: right;\">\n",
       "      <th></th>\n",
       "      <th>flow</th>\n",
       "      <th>speed</th>\n",
       "      <th>occupancy</th>\n",
       "      <th>probability</th>\n",
       "    </tr>\n",
       "  </thead>\n",
       "  <tbody>\n",
       "    <tr>\n",
       "      <th>3</th>\n",
       "      <td>-8</td>\n",
       "      <td>71.0</td>\n",
       "      <td>3.0</td>\n",
       "      <td>0</td>\n",
       "    </tr>\n",
       "    <tr>\n",
       "      <th>7</th>\n",
       "      <td>0</td>\n",
       "      <td>65.0</td>\n",
       "      <td>0.0</td>\n",
       "      <td>0</td>\n",
       "    </tr>\n",
       "    <tr>\n",
       "      <th>35</th>\n",
       "      <td>-8</td>\n",
       "      <td>69.0</td>\n",
       "      <td>4.0</td>\n",
       "      <td>0</td>\n",
       "    </tr>\n",
       "    <tr>\n",
       "      <th>50</th>\n",
       "      <td>0</td>\n",
       "      <td>68.0</td>\n",
       "      <td>0.0</td>\n",
       "      <td>0</td>\n",
       "    </tr>\n",
       "    <tr>\n",
       "      <th>52</th>\n",
       "      <td>0</td>\n",
       "      <td>62.0</td>\n",
       "      <td>0.0</td>\n",
       "      <td>0</td>\n",
       "    </tr>\n",
       "  </tbody>\n",
       "</table>\n",
       "</div>"
      ],
      "text/plain": [
       "    flow  speed  occupancy  probability\n",
       "3     -8   71.0        3.0            0\n",
       "7      0   65.0        0.0            0\n",
       "35    -8   69.0        4.0            0\n",
       "50     0   68.0        0.0            0\n",
       "52     0   62.0        0.0            0"
      ]
     },
     "execution_count": 55,
     "metadata": {},
     "output_type": "execute_result"
    }
   ],
   "source": [
    "ndf[\"probability\"] =0\n",
    "ndf.head()"
   ]
  },
  {
   "cell_type": "code",
   "execution_count": 56,
   "metadata": {
    "collapsed": false
   },
   "outputs": [],
   "source": [
    "mean1 = pdf['flow'].mean()\n",
    "mean2 = pdf['speed'].mean()\n",
    "mean3 = pdf['occupancy'].mean()"
   ]
  },
  {
   "cell_type": "code",
   "execution_count": 57,
   "metadata": {
    "collapsed": true
   },
   "outputs": [],
   "source": [
    "def computex2(row):\n",
    "   if ((row['flow']<0) | (row['speed']<0) | (row['occupancy']<0)):\n",
    "       x2 = float(\"inf\")\n",
    "   else:\n",
    "       x2 = ((row['flow'] - mean1)**2/mean1) + ((row[1] - mean2)**2/mean2) + ((row[2] - mean3)**2/mean3) # Simple calc for example\n",
    "   return x2"
   ]
  },
  {
   "cell_type": "code",
   "execution_count": 58,
   "metadata": {
    "collapsed": false
   },
   "outputs": [
    {
     "name": "stderr",
     "output_type": "stream",
     "text": [
      "C:\\Anaconda2\\lib\\site-packages\\ipykernel\\__main__.py:1: SettingWithCopyWarning: \n",
      "A value is trying to be set on a copy of a slice from a DataFrame.\n",
      "Try using .loc[row_indexer,col_indexer] = value instead\n",
      "\n",
      "See the caveats in the documentation: http://pandas.pydata.org/pandas-docs/stable/indexing.html#indexing-view-versus-copy\n",
      "  if __name__ == '__main__':\n"
     ]
    }
   ],
   "source": [
    "pdf['chi2'] = pdf.apply(computex2, axis=1)"
   ]
  },
  {
   "cell_type": "code",
   "execution_count": null,
   "metadata": {
    "collapsed": true
   },
   "outputs": [],
   "source": []
  },
  {
   "cell_type": "code",
   "execution_count": 59,
   "metadata": {
    "collapsed": false
   },
   "outputs": [],
   "source": [
    "ws_range = np.arange(0, pdf['chi2'].max() + 10, 10)"
   ]
  },
  {
   "cell_type": "code",
   "execution_count": 21,
   "metadata": {
    "collapsed": false
   },
   "outputs": [],
   "source": [
    "a = pdf.groupby(pd.cut(pdf['chi2'],ws_range))\n",
    "pdf['probability']=a['chi2'].transform('count')/len(pdf['chi2'])"
   ]
  },
  {
   "cell_type": "code",
   "execution_count": 24,
   "metadata": {
    "collapsed": false
   },
   "outputs": [
    {
     "data": {
      "text/html": [
       "<div>\n",
       "<table border=\"1\" class=\"dataframe\">\n",
       "  <thead>\n",
       "    <tr style=\"text-align: right;\">\n",
       "      <th></th>\n",
       "      <th>flow</th>\n",
       "      <th>speed</th>\n",
       "      <th>occupancy</th>\n",
       "      <th>chi2</th>\n",
       "      <th>probability</th>\n",
       "    </tr>\n",
       "  </thead>\n",
       "  <tbody>\n",
       "    <tr>\n",
       "      <th>0</th>\n",
       "      <td>8</td>\n",
       "      <td>68.0</td>\n",
       "      <td>3.0</td>\n",
       "      <td>58.054900</td>\n",
       "      <td>0.073428</td>\n",
       "    </tr>\n",
       "    <tr>\n",
       "      <th>1</th>\n",
       "      <td>9</td>\n",
       "      <td>67.0</td>\n",
       "      <td>4.0</td>\n",
       "      <td>56.753669</td>\n",
       "      <td>0.073428</td>\n",
       "    </tr>\n",
       "    <tr>\n",
       "      <th>2</th>\n",
       "      <td>11</td>\n",
       "      <td>66.0</td>\n",
       "      <td>4.0</td>\n",
       "      <td>56.766960</td>\n",
       "      <td>0.073428</td>\n",
       "    </tr>\n",
       "    <tr>\n",
       "      <th>4</th>\n",
       "      <td>5</td>\n",
       "      <td>65.0</td>\n",
       "      <td>2.0</td>\n",
       "      <td>49.301779</td>\n",
       "      <td>0.068037</td>\n",
       "    </tr>\n",
       "    <tr>\n",
       "      <th>5</th>\n",
       "      <td>7</td>\n",
       "      <td>66.0</td>\n",
       "      <td>2.0</td>\n",
       "      <td>52.045195</td>\n",
       "      <td>0.073428</td>\n",
       "    </tr>\n",
       "  </tbody>\n",
       "</table>\n",
       "</div>"
      ],
      "text/plain": [
       "   flow  speed  occupancy       chi2  probability\n",
       "0     8   68.0        3.0  58.054900     0.073428\n",
       "1     9   67.0        4.0  56.753669     0.073428\n",
       "2    11   66.0        4.0  56.766960     0.073428\n",
       "4     5   65.0        2.0  49.301779     0.068037\n",
       "5     7   66.0        2.0  52.045195     0.073428"
      ]
     },
     "execution_count": 24,
     "metadata": {},
     "output_type": "execute_result"
    }
   ],
   "source": [
    "pdf.head()"
   ]
  },
  {
   "cell_type": "code",
   "execution_count": 25,
   "metadata": {
    "collapsed": false
   },
   "outputs": [
    {
     "name": "stderr",
     "output_type": "stream",
     "text": [
      "C:\\Anaconda2\\lib\\site-packages\\ipykernel\\__main__.py:1: FutureWarning: sort(columns=....) is deprecated, use sort_values(by=.....)\n",
      "  if __name__ == '__main__':\n"
     ]
    }
   ],
   "source": [
    "sortdf = pdf.sort(columns='probability', axis=0, ascending=True, na_position='last')"
   ]
  },
  {
   "cell_type": "code",
   "execution_count": 32,
   "metadata": {
    "collapsed": false
   },
   "outputs": [
    {
     "data": {
      "text/html": [
       "<div>\n",
       "<table border=\"1\" class=\"dataframe\">\n",
       "  <thead>\n",
       "    <tr style=\"text-align: right;\">\n",
       "      <th></th>\n",
       "      <th>flow</th>\n",
       "      <th>speed</th>\n",
       "      <th>occupancy</th>\n",
       "      <th>probability</th>\n",
       "    </tr>\n",
       "  </thead>\n",
       "  <tbody>\n",
       "    <tr>\n",
       "      <th>8137265</th>\n",
       "      <td>12</td>\n",
       "      <td>1.0</td>\n",
       "      <td>75.0</td>\n",
       "      <td>1.170225e-07</td>\n",
       "    </tr>\n",
       "    <tr>\n",
       "      <th>7770836</th>\n",
       "      <td>238</td>\n",
       "      <td>41.0</td>\n",
       "      <td>4.0</td>\n",
       "      <td>1.170225e-07</td>\n",
       "    </tr>\n",
       "    <tr>\n",
       "      <th>7710423</th>\n",
       "      <td>243</td>\n",
       "      <td>3.0</td>\n",
       "      <td>4.0</td>\n",
       "      <td>1.170225e-07</td>\n",
       "    </tr>\n",
       "    <tr>\n",
       "      <th>7584348</th>\n",
       "      <td>227</td>\n",
       "      <td>5.0</td>\n",
       "      <td>4.0</td>\n",
       "      <td>1.170225e-07</td>\n",
       "    </tr>\n",
       "    <tr>\n",
       "      <th>7776953</th>\n",
       "      <td>267</td>\n",
       "      <td>8.0</td>\n",
       "      <td>4.0</td>\n",
       "      <td>1.170225e-07</td>\n",
       "    </tr>\n",
       "  </tbody>\n",
       "</table>\n",
       "</div>"
      ],
      "text/plain": [
       "         flow  speed  occupancy   probability\n",
       "8137265    12    1.0       75.0  1.170225e-07\n",
       "7770836   238   41.0        4.0  1.170225e-07\n",
       "7710423   243    3.0        4.0  1.170225e-07\n",
       "7584348   227    5.0        4.0  1.170225e-07\n",
       "7776953   267    8.0        4.0  1.170225e-07"
      ]
     },
     "execution_count": 32,
     "metadata": {},
     "output_type": "execute_result"
    }
   ],
   "source": [
    "pdf = sortdf[['flow','speed','occupancy','probability']]\n",
    "pdf.head()"
   ]
  },
  {
   "cell_type": "code",
   "execution_count": 35,
   "metadata": {
    "collapsed": false
   },
   "outputs": [],
   "source": [
    "resultdf = pd.concat([ndf, pdf]).reset_index().drop('index', 1)"
   ]
  },
  {
   "cell_type": "code",
   "execution_count": 37,
   "metadata": {
    "collapsed": false
   },
   "outputs": [],
   "source": [
    "sample = resultdf[::100]\n",
    "sample[['flow', 'speed', 'occupancy']] = sample[['flow', 'speed', 'occupancy']].astype(int)"
   ]
  },
  {
   "cell_type": "code",
   "execution_count": 42,
   "metadata": {
    "collapsed": false
   },
   "outputs": [
    {
     "data": {
      "text/html": [
       "<div>\n",
       "<table border=\"1\" class=\"dataframe\">\n",
       "  <thead>\n",
       "    <tr style=\"text-align: right;\">\n",
       "      <th></th>\n",
       "      <th>flow</th>\n",
       "      <th>speed</th>\n",
       "      <th>occupancy</th>\n",
       "      <th>probability</th>\n",
       "    </tr>\n",
       "  </thead>\n",
       "  <tbody>\n",
       "    <tr>\n",
       "      <th>0</th>\n",
       "      <td>-8</td>\n",
       "      <td>71</td>\n",
       "      <td>3</td>\n",
       "      <td>0.0</td>\n",
       "    </tr>\n",
       "    <tr>\n",
       "      <th>100</th>\n",
       "      <td>0</td>\n",
       "      <td>72</td>\n",
       "      <td>0</td>\n",
       "      <td>0.0</td>\n",
       "    </tr>\n",
       "    <tr>\n",
       "      <th>200</th>\n",
       "      <td>0</td>\n",
       "      <td>65</td>\n",
       "      <td>0</td>\n",
       "      <td>0.0</td>\n",
       "    </tr>\n",
       "    <tr>\n",
       "      <th>300</th>\n",
       "      <td>0</td>\n",
       "      <td>72</td>\n",
       "      <td>0</td>\n",
       "      <td>0.0</td>\n",
       "    </tr>\n",
       "    <tr>\n",
       "      <th>400</th>\n",
       "      <td>0</td>\n",
       "      <td>72</td>\n",
       "      <td>0</td>\n",
       "      <td>0.0</td>\n",
       "    </tr>\n",
       "  </tbody>\n",
       "</table>\n",
       "</div>"
      ],
      "text/plain": [
       "     flow  speed  occupancy  probability\n",
       "0      -8     71          3          0.0\n",
       "100     0     72          0          0.0\n",
       "200     0     65          0          0.0\n",
       "300     0     72          0          0.0\n",
       "400     0     72          0          0.0"
      ]
     },
     "execution_count": 42,
     "metadata": {},
     "output_type": "execute_result"
    }
   ],
   "source": [
    "sample.head()"
   ]
  },
  {
   "cell_type": "code",
   "execution_count": 43,
   "metadata": {
    "collapsed": true
   },
   "outputs": [],
   "source": [
    "sample.to_csv('1160.txt', sep='\\t', encoding='utf-8',index=False)"
   ]
  },
  {
   "cell_type": "code",
   "execution_count": null,
   "metadata": {
    "collapsed": true
   },
   "outputs": [],
   "source": []
  }
 ],
 "metadata": {
  "anaconda-cloud": {},
  "kernelspec": {
   "display_name": "Python [default]",
   "language": "python",
   "name": "python2"
  },
  "language_info": {
   "codemirror_mode": {
    "name": "ipython",
    "version": 2
   },
   "file_extension": ".py",
   "mimetype": "text/x-python",
   "name": "python",
   "nbconvert_exporter": "python",
   "pygments_lexer": "ipython2",
   "version": "2.7.12"
  }
 },
 "nbformat": 4,
 "nbformat_minor": 0
}
