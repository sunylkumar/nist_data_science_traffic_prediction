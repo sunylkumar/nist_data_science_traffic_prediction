{
 "cells": [
  {
   "cell_type": "code",
   "execution_count": 2,
   "metadata": {
    "collapsed": false
   },
   "outputs": [],
   "source": [
    "import pandas as pd\n",
    "%matplotlib inline\n",
    "import numpy as np\n",
    "import matplotlib.pyplot as plt"
   ]
  },
  {
   "cell_type": "code",
   "execution_count": 3,
   "metadata": {
    "collapsed": false
   },
   "outputs": [
    {
     "name": "stderr",
     "output_type": "stream",
     "text": [
      "Skipping line 45149: expected 13 fields, saw 15\n",
      "\n"
     ]
    }
   ],
   "source": [
    "log_df = pd.read_csv(\"/home/datascience/Downloads/events_train_holdout.tsv\",\n",
    "                     sep='\\t', error_bad_lines= False,\n",
    "                     na_values=['-'])"
   ]
  },
  {
   "cell_type": "code",
   "execution_count": 4,
   "metadata": {
    "collapsed": false
   },
   "outputs": [],
   "source": [
    "#removing rows which have NaN for number of responders\n",
    "df = log_df[np.isfinite(log_df['number_of_responders'])]"
   ]
  },
  {
   "cell_type": "code",
   "execution_count": 7,
   "metadata": {
    "collapsed": false
   },
   "outputs": [
    {
     "data": {
      "text/plain": [
       "<matplotlib.axes.AxesSubplot at 0x7ff82ea99250>"
      ]
     },
     "execution_count": 7,
     "metadata": {},
     "output_type": "execute_result"
    },
    {
     "data": {
      "image/png": "[encoded data removed]",
      "text/plain": [
       "<matplotlib.figure.Figure at 0x7ff83efe35d0>"
      ]
     },
     "metadata": {},
     "output_type": "display_data"
    }
   ],
   "source": [
    "grouped= df.groupby('event_type')\n",
    "grouped['number_of_responders'].mean().plot(kind='bar')"
   ]
  },
  {
   "cell_type": "code",
   "execution_count": 6,
   "metadata": {
    "collapsed": false
   },
   "outputs": [
    {
     "data": {
      "text/plain": [
       "event_type\n",
       "DelayStatusCancellation      2.416084\n",
       "accident                     0.000000\n",
       "accidentsAndIncidents        1.283913\n",
       "deviceStatus                 0.482620\n",
       "disabled vehicle             1.000000\n",
       "disasters                    1.055954\n",
       "disturbances                 0.215223\n",
       "incident                     2.000000\n",
       "incidentResponseEquipment    1.744186\n",
       "obstruction                  1.391950\n",
       "pavementConditions           0.000000\n",
       "precipitation                0.099249\n",
       "roadwork                     0.042361\n",
       "specialEvents                0.243036\n",
       "sportingEvents               0.000000\n",
       "systemInformation            0.000000\n",
       "traffic congestion           0.000000\n",
       "trafficConditions            0.013919\n",
       "visibilityAndAirQuality      0.187500\n",
       "warningAdvice                2.545455\n",
       "winds                        0.105769\n",
       "Name: number_of_responders, dtype: float64"
      ]
     },
     "execution_count": 6,
     "metadata": {},
     "output_type": "execute_result"
    }
   ],
   "source": [
    "grouped= df.groupby('event_type')\n",
    "grouped['number_of_responders'].mean()"
   ]
  },
  {
   "cell_type": "code",
   "execution_count": null,
   "metadata": {
    "collapsed": false
   },
   "outputs": [],
   "source": [
    "# So we conclude that warning advice has the highest average number of responders, followed by delas status cancellation"
   ]
  }
 ],
 "metadata": {
  "kernelspec": {
   "display_name": "Python 2",
   "language": "python",
   "name": "python2"
  },
  "language_info": {
   "codemirror_mode": {
    "name": "ipython",
    "version": 2
   },
   "file_extension": ".py",
   "mimetype": "text/x-python",
   "name": "python",
   "nbconvert_exporter": "python",
   "pygments_lexer": "ipython2",
   "version": "2.7.11"
  }
 },
 "nbformat": 4,
 "nbformat_minor": 0
}
